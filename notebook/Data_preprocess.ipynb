{
  "nbformat": 4,
  "nbformat_minor": 0,
  "metadata": {
    "colab": {
      "name": "Data_preprocess",
      "provenance": [],
      "collapsed_sections": [],
      "machine_shape": "hm"
    },
    "kernelspec": {
      "display_name": "Python 3",
      "name": "python3"
    },
    "accelerator": "GPU"
  },
  "cells": [
    {
      "cell_type": "markdown",
      "metadata": {
        "id": "rDtWQa_VIrCZ"
      },
      "source": [
        "Using [Sentire: Phrase-Level Sentiment Analysis](https://github.com/evison/Sentires) to analyze Amazon data. \r\n",
        "Preprocessing output to achieve required dataframe format, including fields: reviewerID, asin, overall, unixReviewTime, aspect_pos, aspect, opinion_pos, opinion, sentence, sentence_length, sentence_count, sentiment"
      ]
    },
    {
      "cell_type": "code",
      "metadata": {
        "id": "o4pbrvEJUSrx"
      },
      "source": [
        "import os\r\n",
        "import json\r\n",
        "import gzip\r\n",
        "import pandas as pd\r\n",
        "from urllib.request import urlopen\r\n",
        "import matplotlib.pyplot as plt"
      ],
      "execution_count": 1,
      "outputs": []
    },
    {
      "cell_type": "code",
      "metadata": {
        "colab": {
          "base_uri": "https://localhost:8080/"
        },
        "id": "n5FGcGBsY_HV",
        "outputId": "b71c468f-d0a6-4d2b-f79d-10647c8f7bad"
      },
      "source": [
        "cd /content"
      ],
      "execution_count": 2,
      "outputs": [
        {
          "output_type": "stream",
          "text": [
            "/content\n"
          ],
          "name": "stdout"
        }
      ]
    },
    {
      "cell_type": "code",
      "metadata": {
        "colab": {
          "base_uri": "https://localhost:8080/"
        },
        "id": "ERYzwKICUVbl",
        "outputId": "73d911b9-2564-468c-b1ad-4314c70325b7"
      },
      "source": [
        "!wget http://snap.stanford.edu/data/amazon/productGraph/categoryFiles/reviews_Cell_Phones_and_Accessories_5.json.gz"
      ],
      "execution_count": 3,
      "outputs": [
        {
          "output_type": "stream",
          "text": [
            "--2021-03-03 03:36:00--  http://snap.stanford.edu/data/amazon/productGraph/categoryFiles/reviews_Cell_Phones_and_Accessories_5.json.gz\n",
            "Resolving snap.stanford.edu (snap.stanford.edu)... 171.64.75.80\n",
            "Connecting to snap.stanford.edu (snap.stanford.edu)|171.64.75.80|:80... connected.\n",
            "HTTP request sent, awaiting response... 200 OK\n",
            "Length: 45409631 (43M) [application/x-gzip]\n",
            "Saving to: ‘reviews_Cell_Phones_and_Accessories_5.json.gz’\n",
            "\n",
            "reviews_Cell_Phones 100%[===================>]  43.31M  1.75MB/s    in 17s     \n",
            "\n",
            "2021-03-03 03:36:17 (2.60 MB/s) - ‘reviews_Cell_Phones_and_Accessories_5.json.gz’ saved [45409631/45409631]\n",
            "\n"
          ],
          "name": "stdout"
        }
      ]
    },
    {
      "cell_type": "code",
      "metadata": {
        "colab": {
          "base_uri": "https://localhost:8080/"
        },
        "id": "Au5n3bY3UXUr",
        "outputId": "8fe26544-45b4-4f7b-eadb-16dac5414f17"
      },
      "source": [
        "# ### Load the review data\r\n",
        "ori_data = []\r\n",
        "with gzip.open('reviews_Cell_Phones_and_Accessories_5.json.gz') as f:\r\n",
        "    for l in f:\r\n",
        "        ori_data.append(json.loads(l.strip()))\r\n",
        "    \r\n",
        "# total length of list, this number equals total number of products\r\n",
        "print(len(ori_data))\r\n",
        "\r\n",
        "# first row of the list\r\n",
        "print(ori_data[0])"
      ],
      "execution_count": 4,
      "outputs": [
        {
          "output_type": "stream",
          "text": [
            "194439\n",
            "{'reviewerID': 'A30TL5EWN6DFXT', 'asin': '120401325X', 'reviewerName': 'christina', 'helpful': [0, 0], 'reviewText': \"They look good and stick good! I just don't like the rounded shape because I was always bumping it and Siri kept popping up and it was irritating. I just won't buy a product like this again\", 'overall': 4.0, 'summary': 'Looks Good', 'unixReviewTime': 1400630400, 'reviewTime': '05 21, 2014'}\n"
          ],
          "name": "stdout"
        }
      ]
    },
    {
      "cell_type": "code",
      "metadata": {
        "id": "na7YijLxV17L"
      },
      "source": [
        "import json\r\n",
        "with open('cellphone.txt', 'w') as f:\r\n",
        "    for item in ori_data:\r\n",
        "      f.write(json.dumps(item))\r\n",
        "      f.write('\\n')"
      ],
      "execution_count": 5,
      "outputs": []
    },
    {
      "cell_type": "code",
      "metadata": {
        "colab": {
          "base_uri": "https://localhost:8080/"
        },
        "id": "YzYm28mvenJr",
        "outputId": "9d32d59a-9c6a-40c2-cb1f-b1ed0cf53ae0"
      },
      "source": [
        "!gdown --id 1RMYPsnxNEUPAH8YQ2iyVRHkVKBek0A0z"
      ],
      "execution_count": 6,
      "outputs": [
        {
          "output_type": "stream",
          "text": [
            "Downloading...\n",
            "From: https://drive.google.com/uc?id=1RMYPsnxNEUPAH8YQ2iyVRHkVKBek0A0z\n",
            "To: /content/English-Jar.zip\n",
            "318MB [00:04, 74.5MB/s]\n"
          ],
          "name": "stdout"
        }
      ]
    },
    {
      "cell_type": "code",
      "metadata": {
        "id": "yp_4lQxFGbF7",
        "colab": {
          "base_uri": "https://localhost:8080/"
        },
        "outputId": "61ad28d0-f6f8-44d1-e53b-45de4092e682"
      },
      "source": [
        "!unzip English-Jar.zip"
      ],
      "execution_count": 7,
      "outputs": [
        {
          "output_type": "stream",
          "text": [
            "Archive:  English-Jar.zip\n",
            "   creating: English-Jar/\n",
            "  inflating: __MACOSX/._English-Jar  \n",
            "   creating: English-Jar/res/\n",
            "  inflating: __MACOSX/English-Jar/._res  \n",
            "  inflating: English-Jar/.DS_Store   \n",
            "  inflating: __MACOSX/English-Jar/._.DS_Store  \n",
            "   creating: English-Jar/preset/\n",
            "  inflating: __MACOSX/English-Jar/._preset  \n",
            "   creating: English-Jar/corpus/\n",
            "  inflating: __MACOSX/English-Jar/._corpus  \n",
            "  inflating: English-Jar/DOIT.bat    \n",
            "  inflating: __MACOSX/English-Jar/._DOIT.bat  \n",
            "  inflating: English-Jar/thuir-sentires.jar  \n",
            "  inflating: __MACOSX/English-Jar/._thuir-sentires.jar  \n",
            "   creating: English-Jar/profile/\n",
            "  inflating: __MACOSX/English-Jar/._profile  \n",
            "   creating: English-Jar/task/\n",
            "  inflating: __MACOSX/English-Jar/._task  \n",
            "   creating: English-Jar/log/\n",
            "  inflating: __MACOSX/English-Jar/._log  \n",
            "   creating: English-Jar/lexicon/\n",
            "  inflating: __MACOSX/English-Jar/._lexicon  \n",
            "   creating: English-Jar/data/\n",
            "  inflating: __MACOSX/English-Jar/._data  \n",
            "   creating: English-Jar/conf/\n",
            "  inflating: __MACOSX/English-Jar/._conf  \n",
            "   creating: English-Jar/pool/\n",
            "  inflating: __MACOSX/English-Jar/._pool  \n",
            "  inflating: English-Jar/Project-configuration-and-usage.pdf  \n",
            "  inflating: __MACOSX/English-Jar/._Project-configuration-and-usage.pdf  \n",
            "   creating: English-Jar/debug/\n",
            "  inflating: __MACOSX/English-Jar/._debug  \n",
            "  inflating: English-Jar/res/iconj.res  \n",
            "  inflating: __MACOSX/English-Jar/res/._iconj.res  \n",
            "  inflating: English-Jar/res/iconj.eng.res  \n",
            "  inflating: __MACOSX/English-Jar/res/._iconj.eng.res  \n",
            "  inflating: English-Jar/res/.DS_Store  \n",
            "  inflating: __MACOSX/English-Jar/res/._.DS_Store  \n",
            "  inflating: English-Jar/res/body.res  \n",
            "  inflating: __MACOSX/English-Jar/res/._body.res  \n",
            "  inflating: English-Jar/res/iadv.eng.res  \n",
            "  inflating: __MACOSX/English-Jar/res/._iadv.eng.res  \n",
            "  inflating: English-Jar/res/pos.eng.res  \n",
            "  inflating: __MACOSX/English-Jar/res/._pos.eng.res  \n",
            "  inflating: English-Jar/res/neg.eng.res  \n",
            "  inflating: __MACOSX/English-Jar/res/._neg.eng.res  \n",
            "  inflating: English-Jar/res/bg.eng.res  \n",
            "  inflating: __MACOSX/English-Jar/res/._bg.eng.res  \n",
            "  inflating: English-Jar/res/english-bidirectional-distsim.tagger.props  \n",
            "  inflating: __MACOSX/English-Jar/res/._english-bidirectional-distsim.tagger.props  \n",
            "  inflating: English-Jar/res/bg.res  \n",
            "  inflating: __MACOSX/English-Jar/res/._bg.res  \n",
            "  inflating: English-Jar/res/neu.res  \n",
            "  inflating: __MACOSX/English-Jar/res/._neu.res  \n",
            "  inflating: English-Jar/res/neu.eng.res  \n",
            "  inflating: __MACOSX/English-Jar/res/._neu.eng.res  \n",
            "  inflating: English-Jar/res/pos.res  \n",
            "  inflating: __MACOSX/English-Jar/res/._pos.res  \n",
            "  inflating: English-Jar/res/english-bidirectional-distsim.tagger  \n",
            "  inflating: __MACOSX/English-Jar/res/._english-bidirectional-distsim.tagger  \n",
            "  inflating: English-Jar/res/neg.res  \n",
            "  inflating: __MACOSX/English-Jar/res/._neg.res  \n",
            "  inflating: English-Jar/res/iadv.res  \n",
            "  inflating: __MACOSX/English-Jar/res/._iadv.res  \n",
            "  inflating: English-Jar/preset/default.pattern  \n",
            "  inflating: __MACOSX/English-Jar/preset/._default.pattern  \n",
            "  inflating: English-Jar/preset/english.resource  \n",
            "  inflating: __MACOSX/English-Jar/preset/._english.resource  \n",
            "  inflating: English-Jar/preset/relax.threshold  \n",
            "  inflating: __MACOSX/English-Jar/preset/._relax.threshold  \n",
            "  inflating: English-Jar/preset/english.pattern  \n",
            "  inflating: __MACOSX/English-Jar/preset/._english.pattern  \n",
            "  inflating: English-Jar/preset/strict.threshold  \n",
            "  inflating: __MACOSX/English-Jar/preset/._strict.threshold  \n",
            "  inflating: English-Jar/preset/default.mapping  \n",
            "  inflating: __MACOSX/English-Jar/preset/._default.mapping  \n",
            "  inflating: English-Jar/preset/default.resource  \n",
            "  inflating: __MACOSX/English-Jar/preset/._default.resource  \n",
            "  inflating: English-Jar/corpus/2013.tv.gbk.seg  \n",
            "  inflating: __MACOSX/English-Jar/corpus/._2013.tv.gbk.seg  \n",
            "  inflating: English-Jar/corpus/bg.lower.seg  \n",
            "  inflating: __MACOSX/English-Jar/corpus/._bg.lower.seg  \n",
            "  inflating: English-Jar/corpus/2014.nus.utf.small.seg  \n",
            "  inflating: __MACOSX/English-Jar/corpus/._2014.nus.utf.small.seg  \n",
            "  inflating: English-Jar/corpus/2014.nus.utf.seg  \n",
            "  inflating: __MACOSX/English-Jar/corpus/._2014.nus.utf.seg  \n",
            "  inflating: English-Jar/profile/2013.tv.utf.rerank.index  \n",
            "  inflating: __MACOSX/English-Jar/profile/._2013.tv.utf.rerank.index  \n",
            "  inflating: English-Jar/profile/.DS_Store  \n",
            "  inflating: __MACOSX/English-Jar/profile/._.DS_Store  \n",
            "  inflating: English-Jar/profile/2013.tv.utf.index  \n",
            "  inflating: __MACOSX/English-Jar/profile/._2013.tv.utf.index  \n",
            "  inflating: English-Jar/profile/2014.nus.utf.rerank.index  \n",
            "  inflating: __MACOSX/English-Jar/profile/._2014.nus.utf.rerank.index  \n",
            "  inflating: English-Jar/profile/2015.nus.utf.indicator  \n",
            "  inflating: __MACOSX/English-Jar/profile/._2015.nus.utf.indicator  \n",
            "  inflating: English-Jar/profile/2014.nus.utf.index  \n",
            "  inflating: __MACOSX/English-Jar/profile/._2014.nus.utf.index  \n",
            "  inflating: English-Jar/profile/2014.nus.pos.profile  \n",
            "  inflating: __MACOSX/English-Jar/profile/._2014.nus.pos.profile  \n",
            "  inflating: English-Jar/profile/2013.tv.utf.neg.profile  \n",
            "  inflating: __MACOSX/English-Jar/profile/._2013.tv.utf.neg.profile  \n",
            "  inflating: English-Jar/profile/2014.nus.neg.profile  \n",
            "  inflating: __MACOSX/English-Jar/profile/._2014.nus.neg.profile  \n",
            "  inflating: English-Jar/profile/2013.tv.utf.pos.profile  \n",
            "  inflating: __MACOSX/English-Jar/profile/._2013.tv.utf.pos.profile  \n",
            "  inflating: English-Jar/task/2014.nus.validate.task  \n",
            "  inflating: __MACOSX/English-Jar/task/._2014.nus.validate.task  \n",
            "  inflating: English-Jar/task/2013.tv.lexicon.task  \n",
            "  inflating: __MACOSX/English-Jar/task/._2013.tv.lexicon.task  \n",
            "  inflating: English-Jar/task/2014.nus.profile.task  \n",
            "  inflating: __MACOSX/English-Jar/task/._2014.nus.profile.task  \n",
            "  inflating: English-Jar/task/2014.nus.pos.task  \n",
            "  inflating: __MACOSX/English-Jar/task/._2014.nus.pos.task  \n",
            "  inflating: English-Jar/task/2013.tv.crawler.task  \n",
            "  inflating: __MACOSX/English-Jar/task/._2013.tv.crawler.task  \n",
            "  inflating: English-Jar/task/2015.nus.profile.task  \n",
            "  inflating: __MACOSX/English-Jar/task/._2015.nus.profile.task  \n",
            "  inflating: English-Jar/task/2013.tv.validate.task  \n",
            "  inflating: __MACOSX/English-Jar/task/._2013.tv.validate.task  \n",
            "  inflating: English-Jar/task/2014.nus.lexicon.small.task  \n",
            "  inflating: __MACOSX/English-Jar/task/._2014.nus.lexicon.small.task  \n",
            "  inflating: English-Jar/task/2014.nus.lexicon.task  \n",
            "  inflating: __MACOSX/English-Jar/task/._2014.nus.lexicon.task  \n",
            "  inflating: English-Jar/task/2013.tv.profile.task  \n",
            "  inflating: __MACOSX/English-Jar/task/._2013.tv.profile.task  \n",
            "  inflating: English-Jar/task/2013.tv.pre.task  \n",
            "  inflating: __MACOSX/English-Jar/task/._2013.tv.pre.task  \n",
            "  inflating: English-Jar/task/2013.tv.eval.task  \n",
            "  inflating: __MACOSX/English-Jar/task/._2013.tv.eval.task  \n",
            "  inflating: English-Jar/task/2014.nus.pre.task  \n",
            "  inflating: __MACOSX/English-Jar/task/._2014.nus.pre.task  \n",
            "  inflating: English-Jar/task/2014.nus.bg.task  \n",
            "  inflating: __MACOSX/English-Jar/task/._2014.nus.bg.task  \n",
            "  inflating: English-Jar/lexicon/.DS_Store  \n",
            "  inflating: __MACOSX/English-Jar/lexicon/._.DS_Store  \n",
            "  inflating: English-Jar/lexicon/2014.nus.utf.small.lexicon  \n",
            "  inflating: __MACOSX/English-Jar/lexicon/._2014.nus.utf.small.lexicon  \n",
            "  inflating: English-Jar/lexicon/2014.nus.utf.lexicon  \n",
            "  inflating: __MACOSX/English-Jar/lexicon/._2014.nus.utf.lexicon  \n",
            "  inflating: English-Jar/data/.DS_Store  \n",
            "  inflating: __MACOSX/English-Jar/data/._.DS_Store  \n",
            "   creating: English-Jar/data/hl/\n",
            "  inflating: __MACOSX/English-Jar/data/._hl  \n",
            "   creating: English-Jar/data/stanford/\n",
            "  inflating: __MACOSX/English-Jar/data/._stanford  \n",
            "   creating: English-Jar/data/opinion/\n",
            "  inflating: __MACOSX/English-Jar/data/._opinion  \n",
            "   creating: English-Jar/data/sbc2dbc/\n",
            "  inflating: __MACOSX/English-Jar/data/._sbc2dbc  \n",
            "   creating: English-Jar/data/product/\n",
            "  inflating: __MACOSX/English-Jar/data/._product  \n",
            "   creating: English-Jar/data/feature/\n",
            "  inflating: __MACOSX/English-Jar/data/._feature  \n",
            "   creating: English-Jar/data/seg/\n",
            "  inflating: __MACOSX/English-Jar/data/._seg  \n",
            "   creating: English-Jar/data/select/\n",
            "  inflating: __MACOSX/English-Jar/data/._select  \n",
            "   creating: English-Jar/data/raw/\n",
            "  inflating: __MACOSX/English-Jar/data/._raw  \n",
            "   creating: English-Jar/data/ictclas/\n",
            "  inflating: __MACOSX/English-Jar/data/._ictclas  \n",
            "  inflating: English-Jar/conf/system.properties  \n",
            "  inflating: __MACOSX/English-Jar/conf/._system.properties  \n",
            "  inflating: English-Jar/conf/log.properties  \n",
            "  inflating: __MACOSX/English-Jar/conf/._log.properties  \n",
            "  inflating: English-Jar/pool/.DS_Store  \n",
            "  inflating: __MACOSX/English-Jar/pool/._.DS_Store  \n",
            "   creating: English-Jar/pool/qrel/\n",
            "  inflating: __MACOSX/English-Jar/pool/._qrel  \n",
            "   creating: English-Jar/pool/lres/\n",
            "  inflating: __MACOSX/English-Jar/pool/._lres  \n",
            "   creating: English-Jar/pool/final/\n",
            "  inflating: __MACOSX/English-Jar/pool/._final  \n",
            "   creating: English-Jar/pool/label-rules/\n",
            "  inflating: __MACOSX/English-Jar/pool/._label-rules  \n",
            "  inflating: English-Jar/debug/debug.adverb.list  \n",
            "  inflating: __MACOSX/English-Jar/debug/._debug.adverb.list  \n",
            "  inflating: English-Jar/debug/debug.opinion  \n",
            "  inflating: __MACOSX/English-Jar/debug/._debug.opinion  \n",
            "  inflating: English-Jar/debug/debug.function.list  \n",
            "  inflating: __MACOSX/English-Jar/debug/._debug.function.list  \n",
            "  inflating: English-Jar/debug/debug.suspected.spam  \n",
            "  inflating: __MACOSX/English-Jar/debug/._debug.suspected.spam  \n",
            "  inflating: English-Jar/debug/debug.feature  \n",
            "  inflating: __MACOSX/English-Jar/debug/._debug.feature  \n",
            "  inflating: English-Jar/debug/debug.stopverb.list  \n",
            "  inflating: __MACOSX/English-Jar/debug/._debug.stopverb.list  \n",
            "  inflating: English-Jar/data/hl/2013.tv.gbk.comment.HL.segment.bak  \n",
            "  inflating: __MACOSX/English-Jar/data/hl/._2013.tv.gbk.comment.HL.segment.bak  \n",
            "  inflating: English-Jar/data/hl/2013.tv.gbk.select.hl.seg.bak  \n",
            "  inflating: __MACOSX/English-Jar/data/hl/._2013.tv.gbk.select.hl.seg.bak  \n",
            "  inflating: English-Jar/data/hl/2013.toshiba.gbk.select.hl.seg  \n",
            "  inflating: __MACOSX/English-Jar/data/hl/._2013.toshiba.gbk.select.hl.seg  \n",
            "  inflating: English-Jar/data/hl/2013.tv.gbk.comment.HL.segment  \n",
            "  inflating: __MACOSX/English-Jar/data/hl/._2013.tv.gbk.comment.HL.segment  \n",
            "  inflating: English-Jar/data/stanford/.DS_Store  \n",
            "  inflating: __MACOSX/English-Jar/data/stanford/._.DS_Store  \n",
            "  inflating: English-Jar/data/stanford/2014.nus.utf.select.stanford.seg  \n",
            "  inflating: __MACOSX/English-Jar/data/stanford/._2014.nus.utf.select.stanford.seg  \n",
            "  inflating: English-Jar/data/stanford/2014.nus.utf.select.stanford.seg.1  \n",
            "  inflating: __MACOSX/English-Jar/data/stanford/._2014.nus.utf.select.stanford.seg.1  \n",
            "  inflating: English-Jar/data/stanford/bg.lower.seg  \n",
            "  inflating: __MACOSX/English-Jar/data/stanford/._bg.lower.seg  \n",
            "  inflating: English-Jar/data/stanford/2014.nus.utf.select.stanford.seg.2  \n",
            "  inflating: __MACOSX/English-Jar/data/stanford/._2014.nus.utf.select.stanford.seg.2  \n",
            "  inflating: English-Jar/data/opinion/stop.opinion  \n",
            "  inflating: __MACOSX/English-Jar/data/opinion/._stop.opinion  \n",
            "  inflating: English-Jar/data/opinion/2013.tv.gbk.label.opinion  \n",
            "  inflating: __MACOSX/English-Jar/data/opinion/._2013.tv.gbk.label.opinion  \n",
            "  inflating: English-Jar/data/opinion/2014.nus.utf.label.opinion  \n",
            "  inflating: __MACOSX/English-Jar/data/opinion/._2014.nus.utf.label.opinion  \n",
            "  inflating: English-Jar/data/sbc2dbc/sbc2dbc.dict  \n",
            "  inflating: __MACOSX/English-Jar/data/sbc2dbc/._sbc2dbc.dict  \n",
            "  inflating: English-Jar/data/product/2014.nus.utf.product  \n",
            "  inflating: __MACOSX/English-Jar/data/product/._2014.nus.utf.product  \n",
            "  inflating: English-Jar/data/product/2014.nus.utf.small.product  \n",
            "  inflating: __MACOSX/English-Jar/data/product/._2014.nus.utf.small.product  \n",
            "  inflating: English-Jar/data/product/2013.tv.gbk.product  \n",
            "  inflating: __MACOSX/English-Jar/data/product/._2013.tv.gbk.product  \n",
            "  inflating: English-Jar/data/feature/2013.tv.gbk.label.feature  \n",
            "  inflating: __MACOSX/English-Jar/data/feature/._2013.tv.gbk.label.feature  \n",
            "  inflating: English-Jar/data/feature/manual.feature  \n",
            "  inflating: __MACOSX/English-Jar/data/feature/._manual.feature  \n",
            "  inflating: English-Jar/data/feature/2014.nus.utf.label.feature  \n",
            "  inflating: __MACOSX/English-Jar/data/feature/._2014.nus.utf.label.feature  \n",
            "  inflating: English-Jar/data/feature/stop.feature  \n",
            "  inflating: __MACOSX/English-Jar/data/feature/._stop.feature  \n",
            "  inflating: English-Jar/data/seg/.DS_Store  \n",
            "  inflating: __MACOSX/English-Jar/data/seg/._.DS_Store  \n",
            "  inflating: English-Jar/data/seg/2014.nus.utf.seg.1  \n",
            "  inflating: __MACOSX/English-Jar/data/seg/._2014.nus.utf.seg.1  \n",
            "  inflating: English-Jar/data/seg/2013.toshiba.gbk.seg  \n",
            "  inflating: __MACOSX/English-Jar/data/seg/._2013.toshiba.gbk.seg  \n",
            "  inflating: English-Jar/data/seg/2013.tv.gbk.seg  \n",
            "  inflating: __MACOSX/English-Jar/data/seg/._2013.tv.gbk.seg  \n",
            "  inflating: English-Jar/data/seg/bg.lower.seg  \n",
            "  inflating: __MACOSX/English-Jar/data/seg/._bg.lower.seg  \n",
            "  inflating: English-Jar/data/seg/2014.nus.utf.seg  \n",
            "  inflating: __MACOSX/English-Jar/data/seg/._2014.nus.utf.seg  \n",
            "  inflating: English-Jar/data/select/2013.tv.gbk.select  \n",
            "  inflating: __MACOSX/English-Jar/data/select/._2013.tv.gbk.select  \n",
            "  inflating: English-Jar/data/select/.DS_Store  \n",
            "  inflating: __MACOSX/English-Jar/data/select/._.DS_Store  \n",
            "  inflating: English-Jar/data/select/2014.nus.utf.select  \n",
            "  inflating: __MACOSX/English-Jar/data/select/._2014.nus.utf.select  \n",
            "  inflating: English-Jar/data/select/2013.tv.gbk.comment  \n",
            "  inflating: __MACOSX/English-Jar/data/select/._2013.tv.gbk.comment  \n",
            "  inflating: English-Jar/data/select/bg.lower.select  \n",
            "  inflating: __MACOSX/English-Jar/data/select/._bg.lower.select  \n",
            "  inflating: English-Jar/data/raw/2013.toshiba.gbk.raw  \n",
            "  inflating: __MACOSX/English-Jar/data/raw/._2013.toshiba.gbk.raw  \n",
            "  inflating: English-Jar/data/raw/bg.raw  \n",
            "  inflating: __MACOSX/English-Jar/data/raw/._bg.raw  \n",
            "  inflating: English-Jar/data/raw/2013.tv.gbk.raw  \n",
            "  inflating: __MACOSX/English-Jar/data/raw/._2013.tv.gbk.raw  \n",
            "  inflating: English-Jar/data/raw/2014.nus.utf.raw  \n",
            "  inflating: __MACOSX/English-Jar/data/raw/._2014.nus.utf.raw  \n",
            "  inflating: English-Jar/data/ictclas/2013.tv.gbk.select.ictclas.seg  \n",
            "  inflating: __MACOSX/English-Jar/data/ictclas/._2013.tv.gbk.select.ictclas.seg  \n",
            "  inflating: English-Jar/data/ictclas/2013.tv.gbk.comment.ictclas.seg.bak  \n",
            "  inflating: __MACOSX/English-Jar/data/ictclas/._2013.tv.gbk.comment.ictclas.seg.bak  \n",
            "  inflating: English-Jar/data/ictclas/2013.toshiba.gbk.select.ictclas.seg  \n",
            "  inflating: __MACOSX/English-Jar/data/ictclas/._2013.toshiba.gbk.select.ictclas.seg  \n",
            "  inflating: English-Jar/data/ictclas/2013.tv.gbk.comment.ictclas.seg  \n",
            "  inflating: __MACOSX/English-Jar/data/ictclas/._2013.tv.gbk.comment.ictclas.seg  \n",
            "   creating: English-Jar/pool/qrel/zh/\n",
            "  inflating: __MACOSX/English-Jar/pool/qrel/._zh  \n",
            "   creating: English-Jar/pool/qrel/en/\n",
            "  inflating: __MACOSX/English-Jar/pool/qrel/._en  \n",
            "   creating: English-Jar/pool/lres/fopair/\n",
            "  inflating: __MACOSX/English-Jar/pool/lres/._fopair  \n",
            "   creating: English-Jar/pool/lres/feature/\n",
            "  inflating: __MACOSX/English-Jar/pool/lres/._feature  \n",
            "  inflating: English-Jar/pool/final/.DS_Store  \n",
            "  inflating: __MACOSX/English-Jar/pool/final/._.DS_Store  \n",
            "   creating: English-Jar/pool/final/zh/\n",
            "  inflating: __MACOSX/English-Jar/pool/final/._zh  \n",
            "   creating: English-Jar/pool/final/en/\n",
            "  inflating: __MACOSX/English-Jar/pool/final/._en  \n",
            "  inflating: English-Jar/pool/label-rules/tags-dc.txt  \n",
            "  inflating: __MACOSX/English-Jar/pool/label-rules/._tags-dc.txt  \n",
            "  inflating: English-Jar/pool/label-rules/tags-cosmetic.txt  \n",
            "  inflating: __MACOSX/English-Jar/pool/label-rules/._tags-cosmetic.txt  \n",
            "  inflating: English-Jar/pool/label-rules/tags-restaurant.txt  \n",
            "  inflating: __MACOSX/English-Jar/pool/label-rules/._tags-restaurant.txt  \n",
            "  inflating: English-Jar/pool/qrel/en/2013.tv.qrel  \n",
            "  inflating: __MACOSX/English-Jar/pool/qrel/en/._2013.tv.qrel  \n",
            "  inflating: English-Jar/pool/lres/fopair/2013.tv.gbk.lexicon.lres  \n",
            "  inflating: __MACOSX/English-Jar/pool/lres/fopair/._2013.tv.gbk.lexicon.lres  \n",
            "  inflating: English-Jar/pool/lres/feature/2013.tv.lres  \n",
            "  inflating: __MACOSX/English-Jar/pool/lres/feature/._2013.tv.lres  \n",
            "  inflating: English-Jar/pool/final/zh/camera.merge.final  \n",
            "  inflating: __MACOSX/English-Jar/pool/final/zh/._camera.merge.final  \n",
            "  inflating: English-Jar/pool/final/zh/comment.camera.ø‚∞Õπ∫ŒÔÕ¯.final  \n",
            "  inflating: __MACOSX/English-Jar/pool/final/zh/._comment.camera.ø‚∞Õπ∫ŒÔÕ¯.final  \n",
            "  inflating: English-Jar/pool/final/zh/comment.cosmetic.æ©∂´…Ã≥«.final  \n",
            "  inflating: __MACOSX/English-Jar/pool/final/zh/._comment.cosmetic.æ©∂´…Ã≥«.final  \n",
            "  inflating: English-Jar/pool/final/zh/comment.camera.“◊—∂Õ¯.final  \n",
            "  inflating: __MACOSX/English-Jar/pool/final/zh/._comment.camera.“◊—∂Õ¯.final  \n",
            "  inflating: English-Jar/pool/final/zh/comment.cosmetic.◊ø‘Ω—«¬Ì—∑.final  \n",
            "  inflating: __MACOSX/English-Jar/pool/final/zh/._comment.cosmetic.◊ø‘Ω—«¬Ì—∑.final  \n",
            "  inflating: English-Jar/pool/final/zh/comment.camera.À’ƒ˛“◊π∫.final  \n",
            "  inflating: __MACOSX/English-Jar/pool/final/zh/._comment.camera.À’ƒ˛“◊π∫.final  \n",
            "  inflating: English-Jar/pool/final/zh/comment.camera.tail.final  \n",
            "  inflating: __MACOSX/English-Jar/pool/final/zh/._comment.camera.tail.final  \n",
            "  inflating: English-Jar/pool/final/zh/comment.cosmetic.∞¢∞ÓÕ¯.final  \n",
            "  inflating: __MACOSX/English-Jar/pool/final/zh/._comment.cosmetic.∞¢∞ÓÕ¯.final  \n",
            "  inflating: English-Jar/pool/final/zh/comment.camera.÷–πÿ¥Â‘⁄œﬂ.final  \n",
            "  inflating: __MACOSX/English-Jar/pool/final/zh/._comment.camera.÷–πÿ¥Â‘⁄œﬂ.final  \n",
            "  inflating: English-Jar/pool/final/zh/comment.camera.it168.final  \n",
            "  inflating: __MACOSX/English-Jar/pool/final/zh/._comment.camera.it168.final  \n",
            "  inflating: English-Jar/pool/final/zh/comment.camera.Ã´∆Ω—ÛµÁƒ‘Õ¯.final  \n",
            "  inflating: __MACOSX/English-Jar/pool/final/zh/._comment.camera.Ã´∆Ω—ÛµÁƒ‘Õ¯.final  \n",
            "  inflating: English-Jar/pool/final/zh/comment.cosmetic.¬∂ŸªÕ¯.final  \n",
            "  inflating: __MACOSX/English-Jar/pool/final/zh/._comment.cosmetic.¬∂ŸªÕ¯.final  \n",
            "  inflating: English-Jar/pool/final/zh/comment.cosmetic.etao.final  \n",
            "  inflating: __MACOSX/English-Jar/pool/final/zh/._comment.cosmetic.etao.final  \n",
            "  inflating: English-Jar/pool/final/zh/comment.cosmetic.yoka ±…–.final  \n",
            "  inflating: __MACOSX/English-Jar/pool/final/zh/._comment.cosmetic.yoka ±…–.final  \n",
            "  inflating: English-Jar/pool/final/zh/comment.camera.…´”∞Œﬁº….final  \n",
            "  inflating: __MACOSX/English-Jar/pool/final/zh/._comment.camera.…´”∞Œﬁº….final  \n",
            "  inflating: English-Jar/pool/final/en/2013.tv.gbk.comment  \n",
            "  inflating: __MACOSX/English-Jar/pool/final/en/._2013.tv.gbk.comment  \n"
          ],
          "name": "stdout"
        }
      ]
    },
    {
      "cell_type": "code",
      "metadata": {
        "colab": {
          "base_uri": "https://localhost:8080/"
        },
        "id": "E-KPV6cbGnpf",
        "outputId": "2d5a624a-f8da-418e-bf17-0593e68d2af9"
      },
      "source": [
        "cd /content/English-Jar"
      ],
      "execution_count": 13,
      "outputs": [
        {
          "output_type": "stream",
          "text": [
            "/content/English-Jar\n"
          ],
          "name": "stdout"
        }
      ]
    },
    {
      "cell_type": "code",
      "metadata": {
        "colab": {
          "base_uri": "https://localhost:8080/"
        },
        "id": "lI0thw5_Gpy6",
        "outputId": "690958af-26f1-4ced-8743-d02e36720bec"
      },
      "source": [
        "!git clone https://github.com/lileipisces/Sentires-Guide.git"
      ],
      "execution_count": 14,
      "outputs": [
        {
          "output_type": "stream",
          "text": [
            "Cloning into 'Sentires-Guide'...\n",
            "remote: Enumerating objects: 76, done.\u001b[K\n",
            "remote: Counting objects: 100% (76/76), done.\u001b[K\n",
            "remote: Compressing objects: 100% (72/72), done.\u001b[K\n",
            "remote: Total 76 (delta 18), reused 0 (delta 0), pack-reused 0\u001b[K\n",
            "Unpacking objects: 100% (76/76), done.\n"
          ],
          "name": "stdout"
        }
      ]
    },
    {
      "cell_type": "code",
      "metadata": {
        "id": "-CevHOhOHCpl"
      },
      "source": [
        "mv ./Sentires-Guide/lei /content/English-Jar/"
      ],
      "execution_count": 15,
      "outputs": []
    },
    {
      "cell_type": "code",
      "metadata": {
        "id": "BeGvpvLsHPtE"
      },
      "source": [
        "mv ./Sentires-Guide/run_lei.sh /content/English-Jar/"
      ],
      "execution_count": 16,
      "outputs": []
    },
    {
      "cell_type": "code",
      "metadata": {
        "id": "OFJQ4W3-WaFL"
      },
      "source": [
        "mv /content/cellphone.txt /content/English-Jar/lei/input"
      ],
      "execution_count": 17,
      "outputs": []
    },
    {
      "cell_type": "code",
      "metadata": {
        "id": "SMyIeMf8MFB_"
      },
      "source": [
        "!touch /content/English-Jar/lei/input/record.per.row.txt /content/English-Jar/lei/input/records.per.product.txt /content/English-Jar/lei/input/product2json.pickle"
      ],
      "execution_count": 35,
      "outputs": []
    },
    {
      "cell_type": "code",
      "metadata": {
        "id": "ZNAVIYYWZisy"
      },
      "source": [
        "!python lei/0.format.py"
      ],
      "execution_count": 36,
      "outputs": []
    },
    {
      "cell_type": "code",
      "metadata": {
        "colab": {
          "base_uri": "https://localhost:8080/"
        },
        "id": "C3hsFLJYZmiL",
        "outputId": "e673a597-e5fb-478f-baa0-11af1adb2aad"
      },
      "source": [
        "!java -jar thuir-sentires.jar -t pre -c lei/1.pre"
      ],
      "execution_count": 37,
      "outputs": [
        {
          "output_type": "stream",
          "text": [
            "0    INFO  2021-03-03 03:50:07 Context - Use /content/English-Jar as home directory\n",
            "3471 INFO  2021-03-03 03:50:10 Preprocessing - Loading finished with totally 194439 entries.\n",
            "3752 INFO  2021-03-03 03:50:10 Preprocessing - Sorting finished.\n",
            "37658 INFO  2021-03-03 03:50:44 Preprocessing - Have processed 10000 entries.\n",
            "52933 INFO  2021-03-03 03:51:00 Preprocessing - Have processed 20000 entries.\n",
            "65710 INFO  2021-03-03 03:51:12 Preprocessing - Have processed 30000 entries.\n",
            "78171 INFO  2021-03-03 03:51:25 Preprocessing - Have processed 40000 entries.\n",
            "94909 INFO  2021-03-03 03:51:42 Preprocessing - Have processed 50000 entries.\n",
            "106043 INFO  2021-03-03 03:51:53 Preprocessing - Have processed 60000 entries.\n",
            "115738 INFO  2021-03-03 03:52:02 Preprocessing - Have processed 70000 entries.\n",
            "131948 INFO  2021-03-03 03:52:19 Preprocessing - Have processed 80000 entries.\n",
            "144775 INFO  2021-03-03 03:52:31 Preprocessing - Have processed 90000 entries.\n",
            "158107 INFO  2021-03-03 03:52:45 Preprocessing - Have processed 100000 entries.\n",
            "168014 INFO  2021-03-03 03:52:55 Preprocessing - Have processed 110000 entries.\n",
            "178632 INFO  2021-03-03 03:53:05 Preprocessing - Have processed 120000 entries.\n",
            "192459 INFO  2021-03-03 03:53:19 Preprocessing - Have processed 130000 entries.\n",
            "206181 INFO  2021-03-03 03:53:33 Preprocessing - Have processed 140000 entries.\n",
            "220538 INFO  2021-03-03 03:53:47 Preprocessing - Have processed 150000 entries.\n",
            "237070 INFO  2021-03-03 03:54:04 Preprocessing - Have processed 160000 entries.\n",
            "261999 INFO  2021-03-03 03:54:29 Preprocessing - Have processed 170000 entries.\n",
            "278566 INFO  2021-03-03 03:54:45 Preprocessing - Have processed 180000 entries.\n",
            "294294 INFO  2021-03-03 03:55:01 Preprocessing - Have processed 190000 entries.\n",
            "300183 INFO  2021-03-03 03:55:07 Preprocessing - Finally select 194286 entries.\n"
          ],
          "name": "stdout"
        }
      ]
    },
    {
      "cell_type": "code",
      "metadata": {
        "colab": {
          "base_uri": "https://localhost:8080/"
        },
        "id": "sjnSQYQXbS8u",
        "outputId": "10454d32-5bde-4228-f3fe-f7583a07ea58"
      },
      "source": [
        "!java -jar thuir-sentires.jar -t pos -c lei/2.pos"
      ],
      "execution_count": 38,
      "outputs": [
        {
          "output_type": "stream",
          "text": [
            "0    INFO  2021-03-03 03:55:09 Context - Use /content/English-Jar as home directory\n",
            "res/english-bidirectional-distsim.tagger\n",
            "Reading POS tagger model from res/english-bidirectional-distsim.tagger ... done [1.3 sec].\n"
          ],
          "name": "stdout"
        }
      ]
    },
    {
      "cell_type": "code",
      "metadata": {
        "id": "SxAbGRJdbemh"
      },
      "source": [
        "!cp lei/intermediate/pos.1.txt lei/intermediate/pos.2.txt"
      ],
      "execution_count": 39,
      "outputs": []
    },
    {
      "cell_type": "code",
      "metadata": {
        "id": "uhHsZPMwbypy",
        "colab": {
          "base_uri": "https://localhost:8080/"
        },
        "outputId": "038d736d-87d0-417a-b8d1-65b491095a1d"
      },
      "source": [
        "!java -jar thuir-sentires.jar -t validate -c lei/3.validate"
      ],
      "execution_count": 40,
      "outputs": [
        {
          "output_type": "stream",
          "text": [
            "0    INFO  2021-03-03 07:04:27 Context - Use /content/English-Jar as home directory\n"
          ],
          "name": "stdout"
        }
      ]
    },
    {
      "cell_type": "code",
      "metadata": {
        "id": "Z1F7W3anb02a"
      },
      "source": [
        "!java -jar thuir-sentires.jar -t lexicon -c lei/4.lexicon.linux\r\n"
      ],
      "execution_count": null,
      "outputs": []
    },
    {
      "cell_type": "code",
      "metadata": {
        "id": "0m3C3N1JdLpP",
        "colab": {
          "base_uri": "https://localhost:8080/"
        },
        "outputId": "87415038-ce1b-4c78-954e-d025c4c266a1"
      },
      "source": [
        "!java -jar thuir-sentires.jar -t profile -c lei/5.profile"
      ],
      "execution_count": 42,
      "outputs": [
        {
          "output_type": "stream",
          "text": [
            "0    INFO  2021-03-03 07:04:34 NewProfileConstructor - Reading the configuration file...\n",
            "32   INFO  2021-03-03 07:04:34 Context - Use /content/English-Jar as home directory\n",
            "Exception in thread \"main\" java.lang.NullPointerException\n",
            "\tat edu.thuir.sentires.profile.Lexicon.<init>(Lexicon.java:91)\n",
            "\tat edu.thuir.sentires.profile.NewProfileConstructor.constructProfile(NewProfileConstructor.java:100)\n",
            "\tat edu.thuir.sentires.program.Application.constructProfile(Application.java:102)\n",
            "\tat edu.thuir.sentires.program.Application.main(Application.java:172)\n"
          ],
          "name": "stdout"
        }
      ]
    },
    {
      "cell_type": "code",
      "metadata": {
        "id": "wt4iThMTdNCS"
      },
      "source": [
        "!python lei/6.transform.py"
      ],
      "execution_count": null,
      "outputs": []
    },
    {
      "cell_type": "code",
      "metadata": {
        "id": "TEhmtugPdT0q"
      },
      "source": [
        "!python lei/7.match.py"
      ],
      "execution_count": null,
      "outputs": []
    },
    {
      "cell_type": "code",
      "metadata": {
        "id": "N6RH0BBtdUzl"
      },
      "source": [
        "import pickle"
      ],
      "execution_count": null,
      "outputs": []
    },
    {
      "cell_type": "code",
      "metadata": {
        "id": "CQNpITM7GWYg"
      },
      "source": [
        "with open('/content/English-Jar/lei/output/reviews.pickle', 'rb') as f:\r\n",
        "  data = pickle.load(f)"
      ],
      "execution_count": null,
      "outputs": []
    },
    {
      "cell_type": "markdown",
      "metadata": {
        "id": "H-RCmKIl51zy"
      },
      "source": [
        ""
      ]
    },
    {
      "cell_type": "code",
      "metadata": {
        "colab": {
          "base_uri": "https://localhost:8080/"
        },
        "id": "p7TF4TndGYwG",
        "outputId": "c507e76d-02a9-4431-8681-8f67ea892b52"
      },
      "source": [
        "type(data)"
      ],
      "execution_count": null,
      "outputs": [
        {
          "output_type": "execute_result",
          "data": {
            "text/plain": [
              "list"
            ]
          },
          "metadata": {
            "tags": []
          },
          "execution_count": 16
        }
      ]
    },
    {
      "cell_type": "code",
      "metadata": {
        "colab": {
          "base_uri": "https://localhost:8080/",
          "height": 285
        },
        "id": "m7Ot-3yJI-kW",
        "outputId": "24aede9f-d140-466e-e2ed-39d1e5d3d963"
      },
      "source": [
        "import pandas as pd\r\n",
        "df = pd.DataFrame(data)\r\n",
        "df.head()"
      ],
      "execution_count": null,
      "outputs": [
        {
          "output_type": "execute_result",
          "data": {
            "text/html": [
              "<div>\n",
              "<style scoped>\n",
              "    .dataframe tbody tr th:only-of-type {\n",
              "        vertical-align: middle;\n",
              "    }\n",
              "\n",
              "    .dataframe tbody tr th {\n",
              "        vertical-align: top;\n",
              "    }\n",
              "\n",
              "    .dataframe thead th {\n",
              "        text-align: right;\n",
              "    }\n",
              "</style>\n",
              "<table border=\"1\" class=\"dataframe\">\n",
              "  <thead>\n",
              "    <tr style=\"text-align: right;\">\n",
              "      <th></th>\n",
              "      <th>user</th>\n",
              "      <th>item</th>\n",
              "      <th>rating</th>\n",
              "      <th>text</th>\n",
              "      <th>sentence</th>\n",
              "    </tr>\n",
              "  </thead>\n",
              "  <tbody>\n",
              "    <tr>\n",
              "      <th>0</th>\n",
              "      <td>A1KLRMWW2FWPL4</td>\n",
              "      <td>0000031887</td>\n",
              "      <td>5</td>\n",
              "      <td>This is a great tutu and at a really great pri...</td>\n",
              "      <td>[(look, on, I'm so glad I looked on Amazon and...</td>\n",
              "    </tr>\n",
              "    <tr>\n",
              "      <th>1</th>\n",
              "      <td>A2G5TCU2WDFZ65</td>\n",
              "      <td>0000031887</td>\n",
              "      <td>5</td>\n",
              "      <td>I bought this for my 4 yr old daughter for dan...</td>\n",
              "      <td>[(sleeve, long, I bought this to go with a lig...</td>\n",
              "    </tr>\n",
              "    <tr>\n",
              "      <th>2</th>\n",
              "      <td>A1RLQXYNCMWRWN</td>\n",
              "      <td>0000031887</td>\n",
              "      <td>5</td>\n",
              "      <td>What can I say... my daughters have it in oran...</td>\n",
              "      <td>[(pink, white, white and pink and I am thinkin...</td>\n",
              "    </tr>\n",
              "    <tr>\n",
              "      <th>3</th>\n",
              "      <td>A8U3FAMSJVHS5</td>\n",
              "      <td>0000031887</td>\n",
              "      <td>5</td>\n",
              "      <td>We bought several tutus at once, and they are ...</td>\n",
              "      <td>NaN</td>\n",
              "    </tr>\n",
              "    <tr>\n",
              "      <th>4</th>\n",
              "      <td>A3GEOILWLK86XM</td>\n",
              "      <td>0000031887</td>\n",
              "      <td>5</td>\n",
              "      <td>Thank you Halo Heaven great product for Little...</td>\n",
              "      <td>[(product, great, Thanks for a great product, ...</td>\n",
              "    </tr>\n",
              "  </tbody>\n",
              "</table>\n",
              "</div>"
            ],
            "text/plain": [
              "             user  ...                                           sentence\n",
              "0  A1KLRMWW2FWPL4  ...  [(look, on, I'm so glad I looked on Amazon and...\n",
              "1  A2G5TCU2WDFZ65  ...  [(sleeve, long, I bought this to go with a lig...\n",
              "2  A1RLQXYNCMWRWN  ...  [(pink, white, white and pink and I am thinkin...\n",
              "3   A8U3FAMSJVHS5  ...                                                NaN\n",
              "4  A3GEOILWLK86XM  ...  [(product, great, Thanks for a great product, ...\n",
              "\n",
              "[5 rows x 5 columns]"
            ]
          },
          "metadata": {
            "tags": []
          },
          "execution_count": 17
        }
      ]
    },
    {
      "cell_type": "code",
      "metadata": {
        "colab": {
          "base_uri": "https://localhost:8080/"
        },
        "id": "rFKKz2osRDdq",
        "outputId": "69095fb6-d989-4d51-dfba-c1e1066a4424"
      },
      "source": [
        "len(df)"
      ],
      "execution_count": null,
      "outputs": [
        {
          "output_type": "execute_result",
          "data": {
            "text/plain": [
              "278677"
            ]
          },
          "metadata": {
            "tags": []
          },
          "execution_count": 18
        }
      ]
    },
    {
      "cell_type": "code",
      "metadata": {
        "colab": {
          "base_uri": "https://localhost:8080/",
          "height": 285
        },
        "id": "g2SrO1R_HA_l",
        "outputId": "ed1f29a1-e773-4a13-9140-5dbd5cea987f"
      },
      "source": [
        "df.head()"
      ],
      "execution_count": null,
      "outputs": [
        {
          "output_type": "execute_result",
          "data": {
            "text/html": [
              "<div>\n",
              "<style scoped>\n",
              "    .dataframe tbody tr th:only-of-type {\n",
              "        vertical-align: middle;\n",
              "    }\n",
              "\n",
              "    .dataframe tbody tr th {\n",
              "        vertical-align: top;\n",
              "    }\n",
              "\n",
              "    .dataframe thead th {\n",
              "        text-align: right;\n",
              "    }\n",
              "</style>\n",
              "<table border=\"1\" class=\"dataframe\">\n",
              "  <thead>\n",
              "    <tr style=\"text-align: right;\">\n",
              "      <th></th>\n",
              "      <th>user</th>\n",
              "      <th>item</th>\n",
              "      <th>rating</th>\n",
              "      <th>text</th>\n",
              "      <th>sentence</th>\n",
              "    </tr>\n",
              "  </thead>\n",
              "  <tbody>\n",
              "    <tr>\n",
              "      <th>0</th>\n",
              "      <td>A1KLRMWW2FWPL4</td>\n",
              "      <td>0000031887</td>\n",
              "      <td>5</td>\n",
              "      <td>This is a great tutu and at a really great pri...</td>\n",
              "      <td>[(look, on, I'm so glad I looked on Amazon and...</td>\n",
              "    </tr>\n",
              "    <tr>\n",
              "      <th>1</th>\n",
              "      <td>A2G5TCU2WDFZ65</td>\n",
              "      <td>0000031887</td>\n",
              "      <td>5</td>\n",
              "      <td>I bought this for my 4 yr old daughter for dan...</td>\n",
              "      <td>[(sleeve, long, I bought this to go with a lig...</td>\n",
              "    </tr>\n",
              "    <tr>\n",
              "      <th>2</th>\n",
              "      <td>A1RLQXYNCMWRWN</td>\n",
              "      <td>0000031887</td>\n",
              "      <td>5</td>\n",
              "      <td>What can I say... my daughters have it in oran...</td>\n",
              "      <td>[(pink, white, white and pink and I am thinkin...</td>\n",
              "    </tr>\n",
              "    <tr>\n",
              "      <th>3</th>\n",
              "      <td>A8U3FAMSJVHS5</td>\n",
              "      <td>0000031887</td>\n",
              "      <td>5</td>\n",
              "      <td>We bought several tutus at once, and they are ...</td>\n",
              "      <td>NaN</td>\n",
              "    </tr>\n",
              "    <tr>\n",
              "      <th>4</th>\n",
              "      <td>A3GEOILWLK86XM</td>\n",
              "      <td>0000031887</td>\n",
              "      <td>5</td>\n",
              "      <td>Thank you Halo Heaven great product for Little...</td>\n",
              "      <td>[(product, great, Thanks for a great product, ...</td>\n",
              "    </tr>\n",
              "  </tbody>\n",
              "</table>\n",
              "</div>"
            ],
            "text/plain": [
              "             user  ...                                           sentence\n",
              "0  A1KLRMWW2FWPL4  ...  [(look, on, I'm so glad I looked on Amazon and...\n",
              "1  A2G5TCU2WDFZ65  ...  [(sleeve, long, I bought this to go with a lig...\n",
              "2  A1RLQXYNCMWRWN  ...  [(pink, white, white and pink and I am thinkin...\n",
              "3   A8U3FAMSJVHS5  ...                                                NaN\n",
              "4  A3GEOILWLK86XM  ...  [(product, great, Thanks for a great product, ...\n",
              "\n",
              "[5 rows x 5 columns]"
            ]
          },
          "metadata": {
            "tags": []
          },
          "execution_count": 19
        }
      ]
    },
    {
      "cell_type": "code",
      "metadata": {
        "colab": {
          "base_uri": "https://localhost:8080/"
        },
        "id": "gDH5oa1pjFYg",
        "outputId": "882f3c86-fb7b-4a04-d558-ae6bb7810d41"
      },
      "source": [
        "df.shape"
      ],
      "execution_count": null,
      "outputs": [
        {
          "output_type": "execute_result",
          "data": {
            "text/plain": [
              "(278677, 5)"
            ]
          },
          "metadata": {
            "tags": []
          },
          "execution_count": 20
        }
      ]
    },
    {
      "cell_type": "code",
      "metadata": {
        "colab": {
          "base_uri": "https://localhost:8080/",
          "height": 411
        },
        "id": "MuohsSVDlvOq",
        "outputId": "9aa4219d-15ee-4493-9b30-95dc206295ec"
      },
      "source": [
        "ori_df[['unixReviewTime', 'asin', 'reviewerID']]"
      ],
      "execution_count": null,
      "outputs": [
        {
          "output_type": "execute_result",
          "data": {
            "text/html": [
              "<div>\n",
              "<style scoped>\n",
              "    .dataframe tbody tr th:only-of-type {\n",
              "        vertical-align: middle;\n",
              "    }\n",
              "\n",
              "    .dataframe tbody tr th {\n",
              "        vertical-align: top;\n",
              "    }\n",
              "\n",
              "    .dataframe thead th {\n",
              "        text-align: right;\n",
              "    }\n",
              "</style>\n",
              "<table border=\"1\" class=\"dataframe\">\n",
              "  <thead>\n",
              "    <tr style=\"text-align: right;\">\n",
              "      <th></th>\n",
              "      <th>unixReviewTime</th>\n",
              "      <th>asin</th>\n",
              "      <th>reviewerID</th>\n",
              "    </tr>\n",
              "  </thead>\n",
              "  <tbody>\n",
              "    <tr>\n",
              "      <th>0</th>\n",
              "      <td>1297468800</td>\n",
              "      <td>0000031887</td>\n",
              "      <td>A1KLRMWW2FWPL4</td>\n",
              "    </tr>\n",
              "    <tr>\n",
              "      <th>1</th>\n",
              "      <td>1358553600</td>\n",
              "      <td>0000031887</td>\n",
              "      <td>A2G5TCU2WDFZ65</td>\n",
              "    </tr>\n",
              "    <tr>\n",
              "      <th>2</th>\n",
              "      <td>1357257600</td>\n",
              "      <td>0000031887</td>\n",
              "      <td>A1RLQXYNCMWRWN</td>\n",
              "    </tr>\n",
              "    <tr>\n",
              "      <th>3</th>\n",
              "      <td>1398556800</td>\n",
              "      <td>0000031887</td>\n",
              "      <td>A8U3FAMSJVHS5</td>\n",
              "    </tr>\n",
              "    <tr>\n",
              "      <th>4</th>\n",
              "      <td>1394841600</td>\n",
              "      <td>0000031887</td>\n",
              "      <td>A3GEOILWLK86XM</td>\n",
              "    </tr>\n",
              "    <tr>\n",
              "      <th>...</th>\n",
              "      <td>...</td>\n",
              "      <td>...</td>\n",
              "      <td>...</td>\n",
              "    </tr>\n",
              "    <tr>\n",
              "      <th>278672</th>\n",
              "      <td>1403568000</td>\n",
              "      <td>B00KKXCJQU</td>\n",
              "      <td>A2DG63DN704LOI</td>\n",
              "    </tr>\n",
              "    <tr>\n",
              "      <th>278673</th>\n",
              "      <td>1403740800</td>\n",
              "      <td>B00KKXCJQU</td>\n",
              "      <td>A1EVV74UQYVKRY</td>\n",
              "    </tr>\n",
              "    <tr>\n",
              "      <th>278674</th>\n",
              "      <td>1402185600</td>\n",
              "      <td>B00KKXCJQU</td>\n",
              "      <td>A1UQBFCERIP7VJ</td>\n",
              "    </tr>\n",
              "    <tr>\n",
              "      <th>278675</th>\n",
              "      <td>1404691200</td>\n",
              "      <td>B00KKXCJQU</td>\n",
              "      <td>A22CW0ZHY3NJH8</td>\n",
              "    </tr>\n",
              "    <tr>\n",
              "      <th>278676</th>\n",
              "      <td>1403481600</td>\n",
              "      <td>B00KKXCJQU</td>\n",
              "      <td>A30VWT3R25QAVD</td>\n",
              "    </tr>\n",
              "  </tbody>\n",
              "</table>\n",
              "<p>278677 rows × 3 columns</p>\n",
              "</div>"
            ],
            "text/plain": [
              "        unixReviewTime        asin      reviewerID\n",
              "0           1297468800  0000031887  A1KLRMWW2FWPL4\n",
              "1           1358553600  0000031887  A2G5TCU2WDFZ65\n",
              "2           1357257600  0000031887  A1RLQXYNCMWRWN\n",
              "3           1398556800  0000031887   A8U3FAMSJVHS5\n",
              "4           1394841600  0000031887  A3GEOILWLK86XM\n",
              "...                ...         ...             ...\n",
              "278672      1403568000  B00KKXCJQU  A2DG63DN704LOI\n",
              "278673      1403740800  B00KKXCJQU  A1EVV74UQYVKRY\n",
              "278674      1402185600  B00KKXCJQU  A1UQBFCERIP7VJ\n",
              "278675      1404691200  B00KKXCJQU  A22CW0ZHY3NJH8\n",
              "278676      1403481600  B00KKXCJQU  A30VWT3R25QAVD\n",
              "\n",
              "[278677 rows x 3 columns]"
            ]
          },
          "metadata": {
            "tags": []
          },
          "execution_count": 33
        }
      ]
    },
    {
      "cell_type": "code",
      "metadata": {
        "id": "tZspaJizs6w2"
      },
      "source": [
        "unixReviewTime = ori_df.sort_values(['reviewerID', 'asin'])['unixReviewTime']"
      ],
      "execution_count": null,
      "outputs": []
    },
    {
      "cell_type": "code",
      "metadata": {
        "id": "lTZiaK1TtKPl"
      },
      "source": [
        "df.sort_values(['user', 'item'], inplace=True)"
      ],
      "execution_count": null,
      "outputs": []
    },
    {
      "cell_type": "code",
      "metadata": {
        "colab": {
          "base_uri": "https://localhost:8080/",
          "height": 285
        },
        "id": "bE10LcQPw0Mw",
        "outputId": "38dc9849-9794-4146-c419-7f032ec8a6b2"
      },
      "source": [
        "df.head()"
      ],
      "execution_count": null,
      "outputs": [
        {
          "output_type": "execute_result",
          "data": {
            "text/html": [
              "<div>\n",
              "<style scoped>\n",
              "    .dataframe tbody tr th:only-of-type {\n",
              "        vertical-align: middle;\n",
              "    }\n",
              "\n",
              "    .dataframe tbody tr th {\n",
              "        vertical-align: top;\n",
              "    }\n",
              "\n",
              "    .dataframe thead th {\n",
              "        text-align: right;\n",
              "    }\n",
              "</style>\n",
              "<table border=\"1\" class=\"dataframe\">\n",
              "  <thead>\n",
              "    <tr style=\"text-align: right;\">\n",
              "      <th></th>\n",
              "      <th>user</th>\n",
              "      <th>item</th>\n",
              "      <th>rating</th>\n",
              "      <th>text</th>\n",
              "      <th>sentence</th>\n",
              "    </tr>\n",
              "  </thead>\n",
              "  <tbody>\n",
              "    <tr>\n",
              "      <th>30668</th>\n",
              "      <td>A001114613O3F18Q5NVR6</td>\n",
              "      <td>B000J6ZYL0</td>\n",
              "      <td>5</td>\n",
              "      <td>These champion mesh are so much better than th...</td>\n",
              "      <td>[(pockets, good, The pockets are good too sinc...</td>\n",
              "    </tr>\n",
              "    <tr>\n",
              "      <th>55901</th>\n",
              "      <td>A001114613O3F18Q5NVR6</td>\n",
              "      <td>B0016JNS44</td>\n",
              "      <td>5</td>\n",
              "      <td>Bought this for my girl for Halloween and it f...</td>\n",
              "      <td>NaN</td>\n",
              "    </tr>\n",
              "    <tr>\n",
              "      <th>72389</th>\n",
              "      <td>A001114613O3F18Q5NVR6</td>\n",
              "      <td>B001T54XA8</td>\n",
              "      <td>5</td>\n",
              "      <td>These wet look leggings were a great buy and f...</td>\n",
              "      <td>[(look, like, They were nice and shiny and loo...</td>\n",
              "    </tr>\n",
              "    <tr>\n",
              "      <th>122588</th>\n",
              "      <td>A001114613O3F18Q5NVR6</td>\n",
              "      <td>B004AZXO1I</td>\n",
              "      <td>5</td>\n",
              "      <td>I am not sure why other reviews say this is no...</td>\n",
              "      <td>NaN</td>\n",
              "    </tr>\n",
              "    <tr>\n",
              "      <th>135480</th>\n",
              "      <td>A001114613O3F18Q5NVR6</td>\n",
              "      <td>B004QJWKLS</td>\n",
              "      <td>5</td>\n",
              "      <td>I got so many comments when I wore these pants...</td>\n",
              "      <td>[(look, real, They really looked like leather ...</td>\n",
              "    </tr>\n",
              "  </tbody>\n",
              "</table>\n",
              "</div>"
            ],
            "text/plain": [
              "                         user  ...                                           sentence\n",
              "30668   A001114613O3F18Q5NVR6  ...  [(pockets, good, The pockets are good too sinc...\n",
              "55901   A001114613O3F18Q5NVR6  ...                                                NaN\n",
              "72389   A001114613O3F18Q5NVR6  ...  [(look, like, They were nice and shiny and loo...\n",
              "122588  A001114613O3F18Q5NVR6  ...                                                NaN\n",
              "135480  A001114613O3F18Q5NVR6  ...  [(look, real, They really looked like leather ...\n",
              "\n",
              "[5 rows x 5 columns]"
            ]
          },
          "metadata": {
            "tags": []
          },
          "execution_count": 36
        }
      ]
    },
    {
      "cell_type": "code",
      "metadata": {
        "id": "cZIaxs_PyeWu"
      },
      "source": [
        "df.loc[:, 'unixReviewTime'] = unixReviewTime"
      ],
      "execution_count": null,
      "outputs": []
    },
    {
      "cell_type": "code",
      "metadata": {
        "colab": {
          "base_uri": "https://localhost:8080/",
          "height": 598
        },
        "id": "aDHxVpknyvO-",
        "outputId": "c58d5f28-fbd7-4082-ed1f-0a9ae44446e5"
      },
      "source": [
        "df"
      ],
      "execution_count": null,
      "outputs": [
        {
          "output_type": "execute_result",
          "data": {
            "text/html": [
              "<div>\n",
              "<style scoped>\n",
              "    .dataframe tbody tr th:only-of-type {\n",
              "        vertical-align: middle;\n",
              "    }\n",
              "\n",
              "    .dataframe tbody tr th {\n",
              "        vertical-align: top;\n",
              "    }\n",
              "\n",
              "    .dataframe thead th {\n",
              "        text-align: right;\n",
              "    }\n",
              "</style>\n",
              "<table border=\"1\" class=\"dataframe\">\n",
              "  <thead>\n",
              "    <tr style=\"text-align: right;\">\n",
              "      <th></th>\n",
              "      <th>user</th>\n",
              "      <th>item</th>\n",
              "      <th>rating</th>\n",
              "      <th>text</th>\n",
              "      <th>sentence</th>\n",
              "      <th>unixReviewTime</th>\n",
              "    </tr>\n",
              "  </thead>\n",
              "  <tbody>\n",
              "    <tr>\n",
              "      <th>30668</th>\n",
              "      <td>A001114613O3F18Q5NVR6</td>\n",
              "      <td>B000J6ZYL0</td>\n",
              "      <td>5</td>\n",
              "      <td>These champion mesh are so much better than th...</td>\n",
              "      <td>[(pockets, good, The pockets are good too sinc...</td>\n",
              "      <td>1370908800</td>\n",
              "    </tr>\n",
              "    <tr>\n",
              "      <th>55901</th>\n",
              "      <td>A001114613O3F18Q5NVR6</td>\n",
              "      <td>B0016JNS44</td>\n",
              "      <td>5</td>\n",
              "      <td>Bought this for my girl for Halloween and it f...</td>\n",
              "      <td>NaN</td>\n",
              "      <td>1352246400</td>\n",
              "    </tr>\n",
              "    <tr>\n",
              "      <th>72389</th>\n",
              "      <td>A001114613O3F18Q5NVR6</td>\n",
              "      <td>B001T54XA8</td>\n",
              "      <td>5</td>\n",
              "      <td>These wet look leggings were a great buy and f...</td>\n",
              "      <td>[(look, like, They were nice and shiny and loo...</td>\n",
              "      <td>1350518400</td>\n",
              "    </tr>\n",
              "    <tr>\n",
              "      <th>122588</th>\n",
              "      <td>A001114613O3F18Q5NVR6</td>\n",
              "      <td>B004AZXO1I</td>\n",
              "      <td>5</td>\n",
              "      <td>I am not sure why other reviews say this is no...</td>\n",
              "      <td>NaN</td>\n",
              "      <td>1350518400</td>\n",
              "    </tr>\n",
              "    <tr>\n",
              "      <th>135480</th>\n",
              "      <td>A001114613O3F18Q5NVR6</td>\n",
              "      <td>B004QJWKLS</td>\n",
              "      <td>5</td>\n",
              "      <td>I got so many comments when I wore these pants...</td>\n",
              "      <td>[(look, real, They really looked like leather ...</td>\n",
              "      <td>1350518400</td>\n",
              "    </tr>\n",
              "    <tr>\n",
              "      <th>...</th>\n",
              "      <td>...</td>\n",
              "      <td>...</td>\n",
              "      <td>...</td>\n",
              "      <td>...</td>\n",
              "      <td>...</td>\n",
              "      <td>...</td>\n",
              "    </tr>\n",
              "    <tr>\n",
              "      <th>111105</th>\n",
              "      <td>AZZYW4YOE1B6E</td>\n",
              "      <td>B003V4AKTS</td>\n",
              "      <td>1</td>\n",
              "      <td>This belt is sub standard it creases excessive...</td>\n",
              "      <td>[(looks, awful, This belt is sub standard it c...</td>\n",
              "      <td>1386633600</td>\n",
              "    </tr>\n",
              "    <tr>\n",
              "      <th>126108</th>\n",
              "      <td>AZZYW4YOE1B6E</td>\n",
              "      <td>B004G8GOW0</td>\n",
              "      <td>5</td>\n",
              "      <td>Love the 4 wheel spinning function.  I have 2 ...</td>\n",
              "      <td>[(def, nice, It is light to start so you won't...</td>\n",
              "      <td>1357776000</td>\n",
              "    </tr>\n",
              "    <tr>\n",
              "      <th>190766</th>\n",
              "      <td>AZZYW4YOE1B6E</td>\n",
              "      <td>B007LTV82W</td>\n",
              "      <td>5</td>\n",
              "      <td>Some sites have this same exact ring for $500 ...</td>\n",
              "      <td>[(quality, amazing, It is amazing quality and ...</td>\n",
              "      <td>1377907200</td>\n",
              "    </tr>\n",
              "    <tr>\n",
              "      <th>194885</th>\n",
              "      <td>AZZYW4YOE1B6E</td>\n",
              "      <td>B007UNSF3O</td>\n",
              "      <td>4</td>\n",
              "      <td>These suitcases are very roomy.  They offer mu...</td>\n",
              "      <td>[(suitcase, empty, The suitcase empty is fairl...</td>\n",
              "      <td>1388534400</td>\n",
              "    </tr>\n",
              "    <tr>\n",
              "      <th>212798</th>\n",
              "      <td>AZZYW4YOE1B6E</td>\n",
              "      <td>B008J4RESK</td>\n",
              "      <td>5</td>\n",
              "      <td>I love this sandal. I am a larger guy and thes...</td>\n",
              "      <td>NaN</td>\n",
              "      <td>1395792000</td>\n",
              "    </tr>\n",
              "  </tbody>\n",
              "</table>\n",
              "<p>278677 rows × 6 columns</p>\n",
              "</div>"
            ],
            "text/plain": [
              "                         user  ... unixReviewTime\n",
              "30668   A001114613O3F18Q5NVR6  ...     1370908800\n",
              "55901   A001114613O3F18Q5NVR6  ...     1352246400\n",
              "72389   A001114613O3F18Q5NVR6  ...     1350518400\n",
              "122588  A001114613O3F18Q5NVR6  ...     1350518400\n",
              "135480  A001114613O3F18Q5NVR6  ...     1350518400\n",
              "...                       ...  ...            ...\n",
              "111105          AZZYW4YOE1B6E  ...     1386633600\n",
              "126108          AZZYW4YOE1B6E  ...     1357776000\n",
              "190766          AZZYW4YOE1B6E  ...     1377907200\n",
              "194885          AZZYW4YOE1B6E  ...     1388534400\n",
              "212798          AZZYW4YOE1B6E  ...     1395792000\n",
              "\n",
              "[278677 rows x 6 columns]"
            ]
          },
          "metadata": {
            "tags": []
          },
          "execution_count": 38
        }
      ]
    },
    {
      "cell_type": "code",
      "metadata": {
        "colab": {
          "base_uri": "https://localhost:8080/"
        },
        "id": "0Dq37DNKdxCO",
        "outputId": "4a09bbc1-ef9a-4b8d-ce9c-a349c6da2d6d"
      },
      "source": [
        "df.shape"
      ],
      "execution_count": null,
      "outputs": [
        {
          "output_type": "execute_result",
          "data": {
            "text/plain": [
              "(278677, 6)"
            ]
          },
          "metadata": {
            "tags": []
          },
          "execution_count": 39
        }
      ]
    },
    {
      "cell_type": "code",
      "metadata": {
        "id": "PQERr_skVrd_"
      },
      "source": [
        "df.rename(columns={'user': 'reviewerID', 'item': 'asin', 'rating': 'overall'}, inplace=True)"
      ],
      "execution_count": null,
      "outputs": []
    },
    {
      "cell_type": "code",
      "metadata": {
        "colab": {
          "base_uri": "https://localhost:8080/",
          "height": 35
        },
        "id": "NdO59HY_k63b",
        "outputId": "b6c1285c-cdb4-4d4f-de6c-c1ae82e2a5c4"
      },
      "source": [
        "df['text'][8]"
      ],
      "execution_count": null,
      "outputs": [
        {
          "output_type": "execute_result",
          "data": {
            "application/vnd.google.colaboratory.intrinsic+json": {
              "type": "string"
            },
            "text/plain": [
              "'My daughter liked this, and it with her costume, but she would have liked it to be a bit fuller.'"
            ]
          },
          "metadata": {
            "tags": []
          },
          "execution_count": 41
        }
      ]
    },
    {
      "cell_type": "code",
      "metadata": {
        "id": "euBNTA8NjCRs"
      },
      "source": [
        "df.reset_index(inplace=True)"
      ],
      "execution_count": null,
      "outputs": []
    },
    {
      "cell_type": "code",
      "metadata": {
        "colab": {
          "base_uri": "https://localhost:8080/",
          "height": 336
        },
        "id": "jqwYkffBj8EB",
        "outputId": "1e3d9cfc-9e17-4a8c-a366-a651b2179b82"
      },
      "source": [
        "df.head()"
      ],
      "execution_count": null,
      "outputs": [
        {
          "output_type": "execute_result",
          "data": {
            "text/html": [
              "<div>\n",
              "<style scoped>\n",
              "    .dataframe tbody tr th:only-of-type {\n",
              "        vertical-align: middle;\n",
              "    }\n",
              "\n",
              "    .dataframe tbody tr th {\n",
              "        vertical-align: top;\n",
              "    }\n",
              "\n",
              "    .dataframe thead th {\n",
              "        text-align: right;\n",
              "    }\n",
              "</style>\n",
              "<table border=\"1\" class=\"dataframe\">\n",
              "  <thead>\n",
              "    <tr style=\"text-align: right;\">\n",
              "      <th></th>\n",
              "      <th>index</th>\n",
              "      <th>reviewerID</th>\n",
              "      <th>asin</th>\n",
              "      <th>overall</th>\n",
              "      <th>text</th>\n",
              "      <th>sentence</th>\n",
              "      <th>unixReviewTime</th>\n",
              "    </tr>\n",
              "  </thead>\n",
              "  <tbody>\n",
              "    <tr>\n",
              "      <th>0</th>\n",
              "      <td>30668</td>\n",
              "      <td>A001114613O3F18Q5NVR6</td>\n",
              "      <td>B000J6ZYL0</td>\n",
              "      <td>5</td>\n",
              "      <td>These champion mesh are so much better than th...</td>\n",
              "      <td>[(pockets, good, The pockets are good too sinc...</td>\n",
              "      <td>1370908800</td>\n",
              "    </tr>\n",
              "    <tr>\n",
              "      <th>1</th>\n",
              "      <td>55901</td>\n",
              "      <td>A001114613O3F18Q5NVR6</td>\n",
              "      <td>B0016JNS44</td>\n",
              "      <td>5</td>\n",
              "      <td>Bought this for my girl for Halloween and it f...</td>\n",
              "      <td>NaN</td>\n",
              "      <td>1352246400</td>\n",
              "    </tr>\n",
              "    <tr>\n",
              "      <th>2</th>\n",
              "      <td>72389</td>\n",
              "      <td>A001114613O3F18Q5NVR6</td>\n",
              "      <td>B001T54XA8</td>\n",
              "      <td>5</td>\n",
              "      <td>These wet look leggings were a great buy and f...</td>\n",
              "      <td>[(look, like, They were nice and shiny and loo...</td>\n",
              "      <td>1350518400</td>\n",
              "    </tr>\n",
              "    <tr>\n",
              "      <th>3</th>\n",
              "      <td>122588</td>\n",
              "      <td>A001114613O3F18Q5NVR6</td>\n",
              "      <td>B004AZXO1I</td>\n",
              "      <td>5</td>\n",
              "      <td>I am not sure why other reviews say this is no...</td>\n",
              "      <td>NaN</td>\n",
              "      <td>1350518400</td>\n",
              "    </tr>\n",
              "    <tr>\n",
              "      <th>4</th>\n",
              "      <td>135480</td>\n",
              "      <td>A001114613O3F18Q5NVR6</td>\n",
              "      <td>B004QJWKLS</td>\n",
              "      <td>5</td>\n",
              "      <td>I got so many comments when I wore these pants...</td>\n",
              "      <td>[(look, real, They really looked like leather ...</td>\n",
              "      <td>1350518400</td>\n",
              "    </tr>\n",
              "  </tbody>\n",
              "</table>\n",
              "</div>"
            ],
            "text/plain": [
              "    index  ... unixReviewTime\n",
              "0   30668  ...     1370908800\n",
              "1   55901  ...     1352246400\n",
              "2   72389  ...     1350518400\n",
              "3  122588  ...     1350518400\n",
              "4  135480  ...     1350518400\n",
              "\n",
              "[5 rows x 7 columns]"
            ]
          },
          "metadata": {
            "tags": []
          },
          "execution_count": 43
        }
      ]
    },
    {
      "cell_type": "code",
      "metadata": {
        "id": "-HZxjNu5j5cb"
      },
      "source": [
        "df.drop(['index'], axis=1, inplace=True)"
      ],
      "execution_count": null,
      "outputs": []
    },
    {
      "cell_type": "code",
      "metadata": {
        "id": "71e5Yj8-Gm-W"
      },
      "source": [
        "df.drop(['text'], axis=1, inplace=True)"
      ],
      "execution_count": null,
      "outputs": []
    },
    {
      "cell_type": "code",
      "metadata": {
        "colab": {
          "base_uri": "https://localhost:8080/",
          "height": 200
        },
        "id": "t7QcKBufK4GM",
        "outputId": "a85fecfd-0278-4c6a-8ee0-80f8e97ce429"
      },
      "source": [
        "df.head()"
      ],
      "execution_count": null,
      "outputs": [
        {
          "output_type": "execute_result",
          "data": {
            "text/html": [
              "<div>\n",
              "<style scoped>\n",
              "    .dataframe tbody tr th:only-of-type {\n",
              "        vertical-align: middle;\n",
              "    }\n",
              "\n",
              "    .dataframe tbody tr th {\n",
              "        vertical-align: top;\n",
              "    }\n",
              "\n",
              "    .dataframe thead th {\n",
              "        text-align: right;\n",
              "    }\n",
              "</style>\n",
              "<table border=\"1\" class=\"dataframe\">\n",
              "  <thead>\n",
              "    <tr style=\"text-align: right;\">\n",
              "      <th></th>\n",
              "      <th>reviewerID</th>\n",
              "      <th>asin</th>\n",
              "      <th>overall</th>\n",
              "      <th>sentence</th>\n",
              "      <th>unixReviewTime</th>\n",
              "    </tr>\n",
              "  </thead>\n",
              "  <tbody>\n",
              "    <tr>\n",
              "      <th>0</th>\n",
              "      <td>A012468118FTQAINEI0OQ</td>\n",
              "      <td>B00005BZM6</td>\n",
              "      <td>5</td>\n",
              "      <td>NaN</td>\n",
              "      <td>1360108800</td>\n",
              "    </tr>\n",
              "    <tr>\n",
              "      <th>1</th>\n",
              "      <td>A012468118FTQAINEI0OQ</td>\n",
              "      <td>B001HA9JOA</td>\n",
              "      <td>5</td>\n",
              "      <td>[(game, cute, cute game, 1, 1)]</td>\n",
              "      <td>1356220800</td>\n",
              "    </tr>\n",
              "    <tr>\n",
              "      <th>2</th>\n",
              "      <td>A012468118FTQAINEI0OQ</td>\n",
              "      <td>B002BY2BVE</td>\n",
              "      <td>5</td>\n",
              "      <td>NaN</td>\n",
              "      <td>1360108800</td>\n",
              "    </tr>\n",
              "    <tr>\n",
              "      <th>3</th>\n",
              "      <td>A012468118FTQAINEI0OQ</td>\n",
              "      <td>B003S7EYZY</td>\n",
              "      <td>5</td>\n",
              "      <td>NaN</td>\n",
              "      <td>1360108800</td>\n",
              "    </tr>\n",
              "    <tr>\n",
              "      <th>4</th>\n",
              "      <td>A012468118FTQAINEI0OQ</td>\n",
              "      <td>B007U7M0LI</td>\n",
              "      <td>5</td>\n",
              "      <td>NaN</td>\n",
              "      <td>1361836800</td>\n",
              "    </tr>\n",
              "  </tbody>\n",
              "</table>\n",
              "</div>"
            ],
            "text/plain": [
              "              reviewerID  ... unixReviewTime\n",
              "0  A012468118FTQAINEI0OQ  ...     1360108800\n",
              "1  A012468118FTQAINEI0OQ  ...     1356220800\n",
              "2  A012468118FTQAINEI0OQ  ...     1360108800\n",
              "3  A012468118FTQAINEI0OQ  ...     1360108800\n",
              "4  A012468118FTQAINEI0OQ  ...     1361836800\n",
              "\n",
              "[5 rows x 5 columns]"
            ]
          },
          "metadata": {
            "tags": []
          },
          "execution_count": 167
        }
      ]
    },
    {
      "cell_type": "code",
      "metadata": {
        "colab": {
          "base_uri": "https://localhost:8080/"
        },
        "id": "XBMvPjU9krSW",
        "outputId": "0289bd81-8479-42b6-e062-a677d93eed62"
      },
      "source": [
        "df['sentence'][0]"
      ],
      "execution_count": null,
      "outputs": [
        {
          "output_type": "execute_result",
          "data": {
            "text/plain": [
              "[('product', 'good', 'good product', 1, 1),\n",
              " ('product',\n",
              "  'good',\n",
              "  'This is good product to have with unlimited possibilities',\n",
              "  1,\n",
              "  1),\n",
              " ('size', 'nice', \"It's a nice size & works very well for our needs\", 1, 1)]"
            ]
          },
          "metadata": {
            "tags": []
          },
          "execution_count": 58
        }
      ]
    },
    {
      "cell_type": "code",
      "metadata": {
        "id": "b4ylMopnkuFs"
      },
      "source": [
        "df = df.explode('sentence').reset_index(drop=True)"
      ],
      "execution_count": null,
      "outputs": []
    },
    {
      "cell_type": "code",
      "metadata": {
        "id": "hRxA8vsGncdg"
      },
      "source": [
        "df.rename(columns={'sentence': 'sentence_set'}, inplace=True)"
      ],
      "execution_count": null,
      "outputs": []
    },
    {
      "cell_type": "code",
      "metadata": {
        "colab": {
          "base_uri": "https://localhost:8080/",
          "height": 200
        },
        "id": "lAlZdtgfmMep",
        "outputId": "ee59b572-753a-40de-8314-9e3f434e4b76"
      },
      "source": [
        "df.head()"
      ],
      "execution_count": null,
      "outputs": [
        {
          "output_type": "execute_result",
          "data": {
            "text/html": [
              "<div>\n",
              "<style scoped>\n",
              "    .dataframe tbody tr th:only-of-type {\n",
              "        vertical-align: middle;\n",
              "    }\n",
              "\n",
              "    .dataframe tbody tr th {\n",
              "        vertical-align: top;\n",
              "    }\n",
              "\n",
              "    .dataframe thead th {\n",
              "        text-align: right;\n",
              "    }\n",
              "</style>\n",
              "<table border=\"1\" class=\"dataframe\">\n",
              "  <thead>\n",
              "    <tr style=\"text-align: right;\">\n",
              "      <th></th>\n",
              "      <th>reviewerID</th>\n",
              "      <th>asin</th>\n",
              "      <th>overall</th>\n",
              "      <th>sentence_set</th>\n",
              "      <th>unixReviewTime</th>\n",
              "    </tr>\n",
              "  </thead>\n",
              "  <tbody>\n",
              "    <tr>\n",
              "      <th>0</th>\n",
              "      <td>A012468118FTQAINEI0OQ</td>\n",
              "      <td>B00005BZM6</td>\n",
              "      <td>5</td>\n",
              "      <td>NaN</td>\n",
              "      <td>1360108800</td>\n",
              "    </tr>\n",
              "    <tr>\n",
              "      <th>1</th>\n",
              "      <td>A012468118FTQAINEI0OQ</td>\n",
              "      <td>B001HA9JOA</td>\n",
              "      <td>5</td>\n",
              "      <td>(game, cute, cute game, 1, 1)</td>\n",
              "      <td>1356220800</td>\n",
              "    </tr>\n",
              "    <tr>\n",
              "      <th>2</th>\n",
              "      <td>A012468118FTQAINEI0OQ</td>\n",
              "      <td>B002BY2BVE</td>\n",
              "      <td>5</td>\n",
              "      <td>NaN</td>\n",
              "      <td>1360108800</td>\n",
              "    </tr>\n",
              "    <tr>\n",
              "      <th>3</th>\n",
              "      <td>A012468118FTQAINEI0OQ</td>\n",
              "      <td>B003S7EYZY</td>\n",
              "      <td>5</td>\n",
              "      <td>NaN</td>\n",
              "      <td>1360108800</td>\n",
              "    </tr>\n",
              "    <tr>\n",
              "      <th>4</th>\n",
              "      <td>A012468118FTQAINEI0OQ</td>\n",
              "      <td>B007U7M0LI</td>\n",
              "      <td>5</td>\n",
              "      <td>NaN</td>\n",
              "      <td>1361836800</td>\n",
              "    </tr>\n",
              "  </tbody>\n",
              "</table>\n",
              "</div>"
            ],
            "text/plain": [
              "              reviewerID  ... unixReviewTime\n",
              "0  A012468118FTQAINEI0OQ  ...     1360108800\n",
              "1  A012468118FTQAINEI0OQ  ...     1356220800\n",
              "2  A012468118FTQAINEI0OQ  ...     1360108800\n",
              "3  A012468118FTQAINEI0OQ  ...     1360108800\n",
              "4  A012468118FTQAINEI0OQ  ...     1361836800\n",
              "\n",
              "[5 rows x 5 columns]"
            ]
          },
          "metadata": {
            "tags": []
          },
          "execution_count": 170
        }
      ]
    },
    {
      "cell_type": "code",
      "metadata": {
        "id": "on_8HhWyAeiw"
      },
      "source": [
        "df.dropna(inplace=True)"
      ],
      "execution_count": null,
      "outputs": []
    },
    {
      "cell_type": "code",
      "metadata": {
        "id": "mS8EMMUrmOtc"
      },
      "source": [
        "df.loc[:, 'aspect'] = df.sentence_set.map(lambda x: x[0].replace(' ', '_'))"
      ],
      "execution_count": null,
      "outputs": []
    },
    {
      "cell_type": "code",
      "metadata": {
        "colab": {
          "base_uri": "https://localhost:8080/",
          "height": 234
        },
        "id": "JsvEOdUHmznm",
        "outputId": "7f9860de-f7e7-474f-eaff-6e34a7164aa3"
      },
      "source": [
        "df.head()"
      ],
      "execution_count": null,
      "outputs": [
        {
          "output_type": "execute_result",
          "data": {
            "text/html": [
              "<div>\n",
              "<style scoped>\n",
              "    .dataframe tbody tr th:only-of-type {\n",
              "        vertical-align: middle;\n",
              "    }\n",
              "\n",
              "    .dataframe tbody tr th {\n",
              "        vertical-align: top;\n",
              "    }\n",
              "\n",
              "    .dataframe thead th {\n",
              "        text-align: right;\n",
              "    }\n",
              "</style>\n",
              "<table border=\"1\" class=\"dataframe\">\n",
              "  <thead>\n",
              "    <tr style=\"text-align: right;\">\n",
              "      <th></th>\n",
              "      <th>reviewerID</th>\n",
              "      <th>asin</th>\n",
              "      <th>overall</th>\n",
              "      <th>sentence_set</th>\n",
              "      <th>unixReviewTime</th>\n",
              "      <th>aspect</th>\n",
              "    </tr>\n",
              "  </thead>\n",
              "  <tbody>\n",
              "    <tr>\n",
              "      <th>0</th>\n",
              "      <td>A00625243BI8W1SSZNLMD</td>\n",
              "      <td>B0002GXF8Q</td>\n",
              "      <td>4</td>\n",
              "      <td>(noise, perfect, Blocks noise perfectly, 1, 1)</td>\n",
              "      <td>1362787200</td>\n",
              "      <td>noise</td>\n",
              "    </tr>\n",
              "    <tr>\n",
              "      <th>5</th>\n",
              "      <td>A00625243BI8W1SSZNLMD</td>\n",
              "      <td>B000SAC5PA</td>\n",
              "      <td>5</td>\n",
              "      <td>(quality, great, and is put together with grea...</td>\n",
              "      <td>1353024000</td>\n",
              "      <td>quality</td>\n",
              "    </tr>\n",
              "    <tr>\n",
              "      <th>10</th>\n",
              "      <td>A10044ECXDUVKS</td>\n",
              "      <td>B000NJ2TIE</td>\n",
              "      <td>4</td>\n",
              "      <td>(sound, good, and make me sound pretty good an...</td>\n",
              "      <td>1345161600</td>\n",
              "      <td>sound</td>\n",
              "    </tr>\n",
              "    <tr>\n",
              "      <th>11</th>\n",
              "      <td>A10044ECXDUVKS</td>\n",
              "      <td>B000NJ2TIE</td>\n",
              "      <td>4</td>\n",
              "      <td>(recording, sound, I record to DAW and the rec...</td>\n",
              "      <td>1345161600</td>\n",
              "      <td>recording</td>\n",
              "    </tr>\n",
              "    <tr>\n",
              "      <th>12</th>\n",
              "      <td>A10044ECXDUVKS</td>\n",
              "      <td>B002GYWBIM</td>\n",
              "      <td>5</td>\n",
              "      <td>(weight, easy, Light weight easy to carry, 1, 1)</td>\n",
              "      <td>1345161600</td>\n",
              "      <td>weight</td>\n",
              "    </tr>\n",
              "  </tbody>\n",
              "</table>\n",
              "</div>"
            ],
            "text/plain": [
              "               reviewerID        asin  ...  unixReviewTime     aspect\n",
              "0   A00625243BI8W1SSZNLMD  B0002GXF8Q  ...      1362787200      noise\n",
              "5   A00625243BI8W1SSZNLMD  B000SAC5PA  ...      1353024000    quality\n",
              "10         A10044ECXDUVKS  B000NJ2TIE  ...      1345161600      sound\n",
              "11         A10044ECXDUVKS  B000NJ2TIE  ...      1345161600  recording\n",
              "12         A10044ECXDUVKS  B002GYWBIM  ...      1345161600     weight\n",
              "\n",
              "[5 rows x 6 columns]"
            ]
          },
          "metadata": {
            "tags": []
          },
          "execution_count": 121
        }
      ]
    },
    {
      "cell_type": "code",
      "metadata": {
        "id": "uEy0C9T4o0UR"
      },
      "source": [
        "df.loc[:, 'opinion'] = df.sentence_set.map(lambda x: x[1].replace(' ', '_'))\r\n",
        "df.loc[:, 'sentence_count'] = df.sentence_set.map(lambda x: x[3])\r\n",
        "df.loc[:, 'sentiment'] = df.sentence_set.map(lambda x: x[-1])"
      ],
      "execution_count": null,
      "outputs": []
    },
    {
      "cell_type": "code",
      "metadata": {
        "id": "LTi2NhN4ukZl"
      },
      "source": [
        "df.loc[:, 'sentence'] = df.sentence_set.map(lambda x: x[2].replace(x[0], x[0].replace(' ', '_')).replace(x[1], x[1].replace(' ', '_')))"
      ],
      "execution_count": null,
      "outputs": []
    },
    {
      "cell_type": "code",
      "metadata": {
        "colab": {
          "base_uri": "https://localhost:8080/",
          "height": 527
        },
        "id": "dXbMzox5o01I",
        "outputId": "afc5cbbe-1c7c-4401-88a1-8811c8709383"
      },
      "source": [
        "df.head()"
      ],
      "execution_count": null,
      "outputs": [
        {
          "output_type": "execute_result",
          "data": {
            "text/html": [
              "<div>\n",
              "<style scoped>\n",
              "    .dataframe tbody tr th:only-of-type {\n",
              "        vertical-align: middle;\n",
              "    }\n",
              "\n",
              "    .dataframe tbody tr th {\n",
              "        vertical-align: top;\n",
              "    }\n",
              "\n",
              "    .dataframe thead th {\n",
              "        text-align: right;\n",
              "    }\n",
              "</style>\n",
              "<table border=\"1\" class=\"dataframe\">\n",
              "  <thead>\n",
              "    <tr style=\"text-align: right;\">\n",
              "      <th></th>\n",
              "      <th>reviewerID</th>\n",
              "      <th>asin</th>\n",
              "      <th>overall</th>\n",
              "      <th>sentence_set</th>\n",
              "      <th>unixReviewTime</th>\n",
              "      <th>aspect</th>\n",
              "      <th>opinion</th>\n",
              "      <th>sentence_count</th>\n",
              "      <th>sentiment</th>\n",
              "      <th>sentence</th>\n",
              "    </tr>\n",
              "  </thead>\n",
              "  <tbody>\n",
              "    <tr>\n",
              "      <th>1</th>\n",
              "      <td>A012468118FTQAINEI0OQ</td>\n",
              "      <td>B001HA9JOA</td>\n",
              "      <td>5</td>\n",
              "      <td>(game, cute, cute game, 1, 1)</td>\n",
              "      <td>1356220800</td>\n",
              "      <td>game</td>\n",
              "      <td>cute</td>\n",
              "      <td>1</td>\n",
              "      <td>1</td>\n",
              "      <td>cute game</td>\n",
              "    </tr>\n",
              "    <tr>\n",
              "      <th>6</th>\n",
              "      <td>A0182108CPDLPRCXQUZQ</td>\n",
              "      <td>B002IUNLLK</td>\n",
              "      <td>5</td>\n",
              "      <td>(toy, best, This is the best toy for my sons o...</td>\n",
              "      <td>1383177600</td>\n",
              "      <td>toy</td>\n",
              "      <td>best</td>\n",
              "      <td>1</td>\n",
              "      <td>1</td>\n",
              "      <td>This is the best toy for my sons of those that...</td>\n",
              "    </tr>\n",
              "    <tr>\n",
              "      <th>7</th>\n",
              "      <td>A0182108CPDLPRCXQUZQ</td>\n",
              "      <td>B007WYU7R8</td>\n",
              "      <td>5</td>\n",
              "      <td>(toy, great, This toy is great, 1, 1)</td>\n",
              "      <td>1383177600</td>\n",
              "      <td>toy</td>\n",
              "      <td>great</td>\n",
              "      <td>1</td>\n",
              "      <td>1</td>\n",
              "      <td>This toy is great</td>\n",
              "    </tr>\n",
              "    <tr>\n",
              "      <th>9</th>\n",
              "      <td>A0182108CPDLPRCXQUZQ</td>\n",
              "      <td>B00ABY8WVO</td>\n",
              "      <td>4</td>\n",
              "      <td>(size, real, not sure they wrote real size of ...</td>\n",
              "      <td>1383177600</td>\n",
              "      <td>size</td>\n",
              "      <td>real</td>\n",
              "      <td>1</td>\n",
              "      <td>-1</td>\n",
              "      <td>not sure they wrote real size of the figure th...</td>\n",
              "    </tr>\n",
              "    <tr>\n",
              "      <th>10</th>\n",
              "      <td>A0182108CPDLPRCXQUZQ</td>\n",
              "      <td>B00AFP86KG</td>\n",
              "      <td>4</td>\n",
              "      <td>(year, old, My son will be 4 years old in 10 d...</td>\n",
              "      <td>1383177600</td>\n",
              "      <td>year</td>\n",
              "      <td>old</td>\n",
              "      <td>1</td>\n",
              "      <td>1</td>\n",
              "      <td>My son will be 4 years old in 10 days</td>\n",
              "    </tr>\n",
              "  </tbody>\n",
              "</table>\n",
              "</div>"
            ],
            "text/plain": [
              "               reviewerID  ...                                           sentence\n",
              "1   A012468118FTQAINEI0OQ  ...                                          cute game\n",
              "6    A0182108CPDLPRCXQUZQ  ...  This is the best toy for my sons of those that...\n",
              "7    A0182108CPDLPRCXQUZQ  ...                                  This toy is great\n",
              "9    A0182108CPDLPRCXQUZQ  ...  not sure they wrote real size of the figure th...\n",
              "10   A0182108CPDLPRCXQUZQ  ...              My son will be 4 years old in 10 days\n",
              "\n",
              "[5 rows x 10 columns]"
            ]
          },
          "metadata": {
            "tags": []
          },
          "execution_count": 65
        }
      ]
    },
    {
      "cell_type": "code",
      "metadata": {
        "id": "prCfdXurpfNm"
      },
      "source": [
        "df.loc[:, 'sentence_len'] = df.sentence.map(lambda x: len(x))"
      ],
      "execution_count": null,
      "outputs": []
    },
    {
      "cell_type": "code",
      "metadata": {
        "colab": {
          "base_uri": "https://localhost:8080/",
          "height": 527
        },
        "id": "z08jqwZupxYG",
        "outputId": "7ffc76d6-812a-4c07-d668-a4836c603703"
      },
      "source": [
        "df.head()"
      ],
      "execution_count": null,
      "outputs": [
        {
          "output_type": "execute_result",
          "data": {
            "text/html": [
              "<div>\n",
              "<style scoped>\n",
              "    .dataframe tbody tr th:only-of-type {\n",
              "        vertical-align: middle;\n",
              "    }\n",
              "\n",
              "    .dataframe tbody tr th {\n",
              "        vertical-align: top;\n",
              "    }\n",
              "\n",
              "    .dataframe thead th {\n",
              "        text-align: right;\n",
              "    }\n",
              "</style>\n",
              "<table border=\"1\" class=\"dataframe\">\n",
              "  <thead>\n",
              "    <tr style=\"text-align: right;\">\n",
              "      <th></th>\n",
              "      <th>reviewerID</th>\n",
              "      <th>asin</th>\n",
              "      <th>overall</th>\n",
              "      <th>sentence_set</th>\n",
              "      <th>unixReviewTime</th>\n",
              "      <th>aspect</th>\n",
              "      <th>opinion</th>\n",
              "      <th>sentence_count</th>\n",
              "      <th>sentiment</th>\n",
              "      <th>sentence</th>\n",
              "      <th>sentence_len</th>\n",
              "    </tr>\n",
              "  </thead>\n",
              "  <tbody>\n",
              "    <tr>\n",
              "      <th>1</th>\n",
              "      <td>A012468118FTQAINEI0OQ</td>\n",
              "      <td>B001HA9JOA</td>\n",
              "      <td>5</td>\n",
              "      <td>(game, cute, cute game, 1, 1)</td>\n",
              "      <td>1356220800</td>\n",
              "      <td>game</td>\n",
              "      <td>cute</td>\n",
              "      <td>1</td>\n",
              "      <td>1</td>\n",
              "      <td>cute game</td>\n",
              "      <td>9</td>\n",
              "    </tr>\n",
              "    <tr>\n",
              "      <th>6</th>\n",
              "      <td>A0182108CPDLPRCXQUZQ</td>\n",
              "      <td>B002IUNLLK</td>\n",
              "      <td>5</td>\n",
              "      <td>(toy, best, This is the best toy for my sons o...</td>\n",
              "      <td>1383177600</td>\n",
              "      <td>toy</td>\n",
              "      <td>best</td>\n",
              "      <td>1</td>\n",
              "      <td>1</td>\n",
              "      <td>This is the best toy for my sons of those that...</td>\n",
              "      <td>87</td>\n",
              "    </tr>\n",
              "    <tr>\n",
              "      <th>7</th>\n",
              "      <td>A0182108CPDLPRCXQUZQ</td>\n",
              "      <td>B007WYU7R8</td>\n",
              "      <td>5</td>\n",
              "      <td>(toy, great, This toy is great, 1, 1)</td>\n",
              "      <td>1383177600</td>\n",
              "      <td>toy</td>\n",
              "      <td>great</td>\n",
              "      <td>1</td>\n",
              "      <td>1</td>\n",
              "      <td>This toy is great</td>\n",
              "      <td>17</td>\n",
              "    </tr>\n",
              "    <tr>\n",
              "      <th>9</th>\n",
              "      <td>A0182108CPDLPRCXQUZQ</td>\n",
              "      <td>B00ABY8WVO</td>\n",
              "      <td>4</td>\n",
              "      <td>(size, real, not sure they wrote real size of ...</td>\n",
              "      <td>1383177600</td>\n",
              "      <td>size</td>\n",
              "      <td>real</td>\n",
              "      <td>1</td>\n",
              "      <td>-1</td>\n",
              "      <td>not sure they wrote real size of the figure th...</td>\n",
              "      <td>104</td>\n",
              "    </tr>\n",
              "    <tr>\n",
              "      <th>10</th>\n",
              "      <td>A0182108CPDLPRCXQUZQ</td>\n",
              "      <td>B00AFP86KG</td>\n",
              "      <td>4</td>\n",
              "      <td>(year, old, My son will be 4 years old in 10 d...</td>\n",
              "      <td>1383177600</td>\n",
              "      <td>year</td>\n",
              "      <td>old</td>\n",
              "      <td>1</td>\n",
              "      <td>1</td>\n",
              "      <td>My son will be 4 years old in 10 days</td>\n",
              "      <td>37</td>\n",
              "    </tr>\n",
              "  </tbody>\n",
              "</table>\n",
              "</div>"
            ],
            "text/plain": [
              "               reviewerID  ... sentence_len\n",
              "1   A012468118FTQAINEI0OQ  ...            9\n",
              "6    A0182108CPDLPRCXQUZQ  ...           87\n",
              "7    A0182108CPDLPRCXQUZQ  ...           17\n",
              "9    A0182108CPDLPRCXQUZQ  ...          104\n",
              "10   A0182108CPDLPRCXQUZQ  ...           37\n",
              "\n",
              "[5 rows x 11 columns]"
            ]
          },
          "metadata": {
            "tags": []
          },
          "execution_count": 67
        }
      ]
    },
    {
      "cell_type": "code",
      "metadata": {
        "id": "uSs0_RHUqztE"
      },
      "source": [
        "def find_aspectpos(row):\r\n",
        "  aspect = row['aspect']\r\n",
        "  sentence = row['sentence']\r\n",
        "  str_list = sentence.split()\r\n",
        "  aspect_pos = -1\r\n",
        "  for i, s in enumerate(str_list):\r\n",
        "    if aspect in s:\r\n",
        "      aspect_pos = i\r\n",
        "\r\n",
        "  return aspect_pos"
      ],
      "execution_count": null,
      "outputs": []
    },
    {
      "cell_type": "code",
      "metadata": {
        "id": "eW_G3AIaqik_"
      },
      "source": [
        "df.loc[: , 'aspect_pos'] = df.apply(lambda x: find_aspectpos(x), axis=1)"
      ],
      "execution_count": null,
      "outputs": []
    },
    {
      "cell_type": "code",
      "metadata": {
        "colab": {
          "base_uri": "https://localhost:8080/",
          "height": 68
        },
        "id": "AvjzLElLs8XB",
        "outputId": "604a9b2e-d44d-4e4a-8539-5b10bd0ab81f"
      },
      "source": [
        "df[df['aspect_pos'] == -1]"
      ],
      "execution_count": null,
      "outputs": [
        {
          "output_type": "execute_result",
          "data": {
            "text/html": [
              "<div>\n",
              "<style scoped>\n",
              "    .dataframe tbody tr th:only-of-type {\n",
              "        vertical-align: middle;\n",
              "    }\n",
              "\n",
              "    .dataframe tbody tr th {\n",
              "        vertical-align: top;\n",
              "    }\n",
              "\n",
              "    .dataframe thead th {\n",
              "        text-align: right;\n",
              "    }\n",
              "</style>\n",
              "<table border=\"1\" class=\"dataframe\">\n",
              "  <thead>\n",
              "    <tr style=\"text-align: right;\">\n",
              "      <th></th>\n",
              "      <th>reviewerID</th>\n",
              "      <th>asin</th>\n",
              "      <th>overall</th>\n",
              "      <th>sentence_set</th>\n",
              "      <th>unixReviewTime</th>\n",
              "      <th>aspect</th>\n",
              "      <th>opinion</th>\n",
              "      <th>sentence_count</th>\n",
              "      <th>sentiment</th>\n",
              "      <th>sentence</th>\n",
              "      <th>sentence_len</th>\n",
              "      <th>aspect_pos</th>\n",
              "    </tr>\n",
              "  </thead>\n",
              "  <tbody>\n",
              "  </tbody>\n",
              "</table>\n",
              "</div>"
            ],
            "text/plain": [
              "Empty DataFrame\n",
              "Columns: [reviewerID, asin, overall, sentence_set, unixReviewTime, aspect, opinion, sentence_count, sentiment, sentence, sentence_len, aspect_pos]\n",
              "Index: []"
            ]
          },
          "metadata": {
            "tags": []
          },
          "execution_count": 55
        }
      ]
    },
    {
      "cell_type": "code",
      "metadata": {
        "id": "r5yG-ksq0s92"
      },
      "source": [
        "def find_opinionpos(row):\r\n",
        "  opinion = row['opinion']\r\n",
        "  sentence = row['sentence']\r\n",
        "  str_list = sentence.split()\r\n",
        "  opinion_pos = -1\r\n",
        "  for i, s in enumerate(str_list):\r\n",
        "    if opinion in s:\r\n",
        "      opinion_pos = i\r\n",
        "\r\n",
        "  return opinion_pos"
      ],
      "execution_count": null,
      "outputs": []
    },
    {
      "cell_type": "code",
      "metadata": {
        "id": "jOIMqDj71CDf"
      },
      "source": [
        "df.loc[: , 'opinion_pos'] = df.apply(lambda x: find_opinionpos(x), axis=1)"
      ],
      "execution_count": null,
      "outputs": []
    },
    {
      "cell_type": "code",
      "metadata": {
        "colab": {
          "base_uri": "https://localhost:8080/",
          "height": 68
        },
        "id": "WlNgl2Y71ZrN",
        "outputId": "1fe96871-bab0-4e47-a378-d2389ee832ca"
      },
      "source": [
        "df[df['opinion_pos'] == -1]"
      ],
      "execution_count": null,
      "outputs": [
        {
          "output_type": "execute_result",
          "data": {
            "text/html": [
              "<div>\n",
              "<style scoped>\n",
              "    .dataframe tbody tr th:only-of-type {\n",
              "        vertical-align: middle;\n",
              "    }\n",
              "\n",
              "    .dataframe tbody tr th {\n",
              "        vertical-align: top;\n",
              "    }\n",
              "\n",
              "    .dataframe thead th {\n",
              "        text-align: right;\n",
              "    }\n",
              "</style>\n",
              "<table border=\"1\" class=\"dataframe\">\n",
              "  <thead>\n",
              "    <tr style=\"text-align: right;\">\n",
              "      <th></th>\n",
              "      <th>reviewerID</th>\n",
              "      <th>asin</th>\n",
              "      <th>overall</th>\n",
              "      <th>sentence_set</th>\n",
              "      <th>unixReviewTime</th>\n",
              "      <th>aspect</th>\n",
              "      <th>opinion</th>\n",
              "      <th>sentence_count</th>\n",
              "      <th>sentiment</th>\n",
              "      <th>sentence</th>\n",
              "      <th>sentence_len</th>\n",
              "      <th>aspect_pos</th>\n",
              "      <th>opinion_pos</th>\n",
              "    </tr>\n",
              "  </thead>\n",
              "  <tbody>\n",
              "  </tbody>\n",
              "</table>\n",
              "</div>"
            ],
            "text/plain": [
              "Empty DataFrame\n",
              "Columns: [reviewerID, asin, overall, sentence_set, unixReviewTime, aspect, opinion, sentence_count, sentiment, sentence, sentence_len, aspect_pos, opinion_pos]\n",
              "Index: []"
            ]
          },
          "metadata": {
            "tags": []
          },
          "execution_count": 58
        }
      ]
    },
    {
      "cell_type": "code",
      "metadata": {
        "colab": {
          "base_uri": "https://localhost:8080/"
        },
        "id": "CbfBQNqEpx6G",
        "outputId": "103224d2-0fce-4c51-dd6f-ad0843df739a"
      },
      "source": [
        "df.shape"
      ],
      "execution_count": null,
      "outputs": [
        {
          "output_type": "execute_result",
          "data": {
            "text/plain": [
              "(354064, 13)"
            ]
          },
          "metadata": {
            "tags": []
          },
          "execution_count": 59
        }
      ]
    },
    {
      "cell_type": "code",
      "metadata": {
        "id": "Bb_4Ym9xAwjW"
      },
      "source": [
        "df.head()"
      ],
      "execution_count": null,
      "outputs": []
    },
    {
      "cell_type": "code",
      "metadata": {
        "id": "y8ccUnYKc0R4"
      },
      "source": [
        "df.drop(columns=['sentence_set'], inplace=True)"
      ],
      "execution_count": null,
      "outputs": []
    },
    {
      "cell_type": "code",
      "metadata": {
        "id": "sTF9XQEtBx5P"
      },
      "source": [
        "df.to_csv('/content/drive/MyDrive/nlpdata/clothes.csv', index=False)"
      ],
      "execution_count": null,
      "outputs": []
    },
    {
      "cell_type": "code",
      "metadata": {
        "id": "GzF0ir9NqCnC"
      },
      "source": [
        "ori_df = pd.DataFrame(ori_data)"
      ],
      "execution_count": null,
      "outputs": []
    },
    {
      "cell_type": "code",
      "metadata": {
        "colab": {
          "base_uri": "https://localhost:8080/",
          "height": 561
        },
        "id": "aXiv6BH7qFPt",
        "outputId": "6032c09f-5149-4f4c-ef81-d2ebe6d89f62"
      },
      "source": [
        "ori_df.head()"
      ],
      "execution_count": null,
      "outputs": [
        {
          "output_type": "execute_result",
          "data": {
            "text/html": [
              "<div>\n",
              "<style scoped>\n",
              "    .dataframe tbody tr th:only-of-type {\n",
              "        vertical-align: middle;\n",
              "    }\n",
              "\n",
              "    .dataframe tbody tr th {\n",
              "        vertical-align: top;\n",
              "    }\n",
              "\n",
              "    .dataframe thead th {\n",
              "        text-align: right;\n",
              "    }\n",
              "</style>\n",
              "<table border=\"1\" class=\"dataframe\">\n",
              "  <thead>\n",
              "    <tr style=\"text-align: right;\">\n",
              "      <th></th>\n",
              "      <th>reviewerID</th>\n",
              "      <th>asin</th>\n",
              "      <th>reviewerName</th>\n",
              "      <th>helpful</th>\n",
              "      <th>reviewText</th>\n",
              "      <th>overall</th>\n",
              "      <th>summary</th>\n",
              "      <th>unixReviewTime</th>\n",
              "      <th>reviewTime</th>\n",
              "    </tr>\n",
              "  </thead>\n",
              "  <tbody>\n",
              "    <tr>\n",
              "      <th>0</th>\n",
              "      <td>A1VXOAVRGKGEAK</td>\n",
              "      <td>0439893577</td>\n",
              "      <td>Angie</td>\n",
              "      <td>[0, 0]</td>\n",
              "      <td>I like the item pricing. My granddaughter want...</td>\n",
              "      <td>5.0</td>\n",
              "      <td>Magnetic board</td>\n",
              "      <td>1390953600</td>\n",
              "      <td>01 29, 2014</td>\n",
              "    </tr>\n",
              "    <tr>\n",
              "      <th>1</th>\n",
              "      <td>A8R62G708TSCM</td>\n",
              "      <td>0439893577</td>\n",
              "      <td>Candace</td>\n",
              "      <td>[1, 1]</td>\n",
              "      <td>Love the magnet easel... great for moving to d...</td>\n",
              "      <td>4.0</td>\n",
              "      <td>it works pretty good for moving to different a...</td>\n",
              "      <td>1395964800</td>\n",
              "      <td>03 28, 2014</td>\n",
              "    </tr>\n",
              "    <tr>\n",
              "      <th>2</th>\n",
              "      <td>A21KH420DK0ICA</td>\n",
              "      <td>0439893577</td>\n",
              "      <td>capemaychristy</td>\n",
              "      <td>[1, 1]</td>\n",
              "      <td>Both sides are magnetic.  A real plus when you...</td>\n",
              "      <td>5.0</td>\n",
              "      <td>love this!</td>\n",
              "      <td>1359331200</td>\n",
              "      <td>01 28, 2013</td>\n",
              "    </tr>\n",
              "    <tr>\n",
              "      <th>3</th>\n",
              "      <td>AR29QK6HPFYZ4</td>\n",
              "      <td>0439893577</td>\n",
              "      <td>dcrm</td>\n",
              "      <td>[0, 0]</td>\n",
              "      <td>Bought one a few years ago for my daughter and...</td>\n",
              "      <td>5.0</td>\n",
              "      <td>Daughters love it</td>\n",
              "      <td>1391817600</td>\n",
              "      <td>02 8, 2014</td>\n",
              "    </tr>\n",
              "    <tr>\n",
              "      <th>4</th>\n",
              "      <td>ACCH8EOML6FN5</td>\n",
              "      <td>0439893577</td>\n",
              "      <td>DoyZ</td>\n",
              "      <td>[1, 1]</td>\n",
              "      <td>I have a stainless steel refrigerator therefor...</td>\n",
              "      <td>4.0</td>\n",
              "      <td>Great to have so he can play with his alphabet...</td>\n",
              "      <td>1399248000</td>\n",
              "      <td>05 5, 2014</td>\n",
              "    </tr>\n",
              "  </tbody>\n",
              "</table>\n",
              "</div>"
            ],
            "text/plain": [
              "       reviewerID        asin  ... unixReviewTime   reviewTime\n",
              "0  A1VXOAVRGKGEAK  0439893577  ...     1390953600  01 29, 2014\n",
              "1   A8R62G708TSCM  0439893577  ...     1395964800  03 28, 2014\n",
              "2  A21KH420DK0ICA  0439893577  ...     1359331200  01 28, 2013\n",
              "3   AR29QK6HPFYZ4  0439893577  ...     1391817600   02 8, 2014\n",
              "4   ACCH8EOML6FN5  0439893577  ...     1399248000   05 5, 2014\n",
              "\n",
              "[5 rows x 9 columns]"
            ]
          },
          "metadata": {
            "tags": []
          },
          "execution_count": 153
        }
      ]
    }
  ]
}