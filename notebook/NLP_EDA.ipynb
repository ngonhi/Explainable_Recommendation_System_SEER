{
  "nbformat": 4,
  "nbformat_minor": 0,
  "metadata": {
    "colab": {
      "name": "NLP_EDA.ipynb",
      "provenance": [],
      "collapsed_sections": [],
      "machine_shape": "hm"
    },
    "kernelspec": {
      "name": "python3",
      "display_name": "Python 3"
    }
  },
  "cells": [
    {
      "cell_type": "code",
      "metadata": {
        "id": "_3miFSrPcNTg",
        "colab": {
          "base_uri": "https://localhost:8080/"
        },
        "outputId": "b06df951-ddd7-4e85-dfb6-4aabf82c8675"
      },
      "source": [
        "from google.colab import drive\n",
        "drive.mount('/content/drive')"
      ],
      "execution_count": 2,
      "outputs": [
        {
          "output_type": "stream",
          "text": [
            "Mounted at /content/drive\n"
          ],
          "name": "stdout"
        }
      ]
    },
    {
      "cell_type": "code",
      "metadata": {
        "colab": {
          "base_uri": "https://localhost:8080/"
        },
        "id": "YFY-pVwKQz7j",
        "outputId": "1cec5df3-1660-4ddd-9abe-bac51e5c5275"
      },
      "source": [
        "cd /content/drive/MyDrive/nlpdata"
      ],
      "execution_count": 4,
      "outputs": [
        {
          "output_type": "stream",
          "text": [
            "/content/drive/MyDrive/nlpdata\n"
          ],
          "name": "stdout"
        }
      ]
    },
    {
      "cell_type": "code",
      "metadata": {
        "id": "MTbv7ZFKU6ad"
      },
      "source": [
        "import pandas as pd"
      ],
      "execution_count": 5,
      "outputs": []
    },
    {
      "cell_type": "code",
      "metadata": {
        "id": "wmN52d-KVAmu"
      },
      "source": [
        "toy = pd.read_csv('toy/profile.csv')\r\n",
        "camera = pd.read_csv('camera/profile.csv')\r\n",
        "cellphone = pd.read_csv('cellphone/profile.csv')\r\n",
        "computer = pd.read_csv('computer/profile.csv')"
      ],
      "execution_count": 6,
      "outputs": []
    },
    {
      "cell_type": "code",
      "metadata": {
        "id": "JLzQLk7e8RTr"
      },
      "source": [
        "def EDA(df):\r\n",
        "  unique_products = df['asin'].unique()\r\n",
        "  print(f'There are {len(unique_products)} unique products')\r\n",
        "\r\n",
        "  unique_aspect = df['aspect'].unique()\r\n",
        "  print(f'There are {len(unique_aspect)} unique aspects')\r\n",
        "\r\n",
        "  unique_opinion = df['opinion'].unique()\r\n",
        "  print(f'There are {len(unique_opinion)} unique opinions')\r\n",
        "\r\n",
        "  unique_sentence = df['sentence'].unique()\r\n",
        "  print(f'There are {len(unique_sentence)} unique sentences')\r\n",
        "\r\n",
        "  unique_users = df['reviewerID'].unique()\r\n",
        "  print(f'There are {len(unique_users)} unique users')\r\n",
        "\r\n",
        "  temp = df.groupby(['reviewerID', 'asin']).size().reset_index(name='count')\r\n",
        "  print(f'There are {len(temp)} unique reviews')"
      ],
      "execution_count": 1,
      "outputs": []
    },
    {
      "cell_type": "code",
      "metadata": {
        "id": "KejtJhsvVat7",
        "colab": {
          "base_uri": "https://localhost:8080/"
        },
        "outputId": "f269e2a7-0ede-4216-adab-85fed00732c1"
      },
      "source": [
        "EDA(toy)"
      ],
      "execution_count": 7,
      "outputs": [
        {
          "output_type": "stream",
          "text": [
            "There are 2106 unique products\n",
            "There are 1055 unique aspects\n",
            "There are 1475 unique opinions\n",
            "There are 53919 unique sentences\n",
            "There are 2672 unique users\n",
            "There are 28287 unique reviews\n"
          ],
          "name": "stdout"
        }
      ]
    },
    {
      "cell_type": "code",
      "metadata": {
        "colab": {
          "base_uri": "https://localhost:8080/"
        },
        "id": "J8-fLWs0WRE-",
        "outputId": "44f0d977-84ed-4497-d3f8-6ca35ed460c5"
      },
      "source": [
        "EDA(computer)"
      ],
      "execution_count": 8,
      "outputs": [
        {
          "output_type": "stream",
          "text": [
            "There are 8819 unique products\n",
            "There are 6740 unique aspects\n",
            "There are 5217 unique opinions\n",
            "There are 449463 unique sentences\n",
            "There are 19818 unique users\n",
            "There are 166600 unique reviews\n"
          ],
          "name": "stdout"
        }
      ]
    },
    {
      "cell_type": "code",
      "metadata": {
        "colab": {
          "base_uri": "https://localhost:8080/"
        },
        "id": "cYIqABxh8yA-",
        "outputId": "838558ba-a30b-49ef-8a95-88118b846b9b"
      },
      "source": [
        "EDA(camera)"
      ],
      "execution_count": 9,
      "outputs": [
        {
          "output_type": "stream",
          "text": [
            "There are 2729 unique products\n",
            "There are 2914 unique aspects\n",
            "There are 2879 unique opinions\n",
            "There are 134160 unique sentences\n",
            "There are 4770 unique users\n",
            "There are 38331 unique reviews\n"
          ],
          "name": "stdout"
        }
      ]
    },
    {
      "cell_type": "code",
      "metadata": {
        "colab": {
          "base_uri": "https://localhost:8080/"
        },
        "id": "YL7x8WJIVHMu",
        "outputId": "be131d19-8fe4-4d71-d03c-1e6215c34f4e"
      },
      "source": [
        "EDA(cellphone)"
      ],
      "execution_count": 10,
      "outputs": [
        {
          "output_type": "stream",
          "text": [
            "There are 1479 unique products\n",
            "There are 1073 unique aspects\n",
            "There are 1519 unique opinions\n",
            "There are 47516 unique sentences\n",
            "There are 2340 unique users\n",
            "There are 19900 unique reviews\n"
          ],
          "name": "stdout"
        }
      ]
    }
  ]
}